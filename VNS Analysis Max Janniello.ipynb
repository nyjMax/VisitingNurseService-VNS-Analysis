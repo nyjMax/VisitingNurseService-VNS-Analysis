{
 "cells": [
  {
   "cell_type": "markdown",
   "id": "b0297597",
   "metadata": {},
   "source": [
    "# VNS data\n",
    "## 3 datasets .. (data_dict is just descriptions of variables)"
   ]
  },
  {
   "cell_type": "code",
   "execution_count": 1,
   "id": "31fc014e",
   "metadata": {},
   "outputs": [],
   "source": [
    "import pandas as pd\n",
    "import numpy as np\n",
    "import matplotlib.pyplot as plt\n",
    "from scipy import stats\n",
    "pd.options.mode.chained_assignment = None  # default='warn'"
   ]
  },
  {
   "cell_type": "code",
   "execution_count": 2,
   "id": "14277a9f",
   "metadata": {},
   "outputs": [
    {
     "data": {
      "text/html": [
       "<div>\n",
       "<style scoped>\n",
       "    .dataframe tbody tr th:only-of-type {\n",
       "        vertical-align: middle;\n",
       "    }\n",
       "\n",
       "    .dataframe tbody tr th {\n",
       "        vertical-align: top;\n",
       "    }\n",
       "\n",
       "    .dataframe thead th {\n",
       "        text-align: right;\n",
       "    }\n",
       "</style>\n",
       "<table border=\"1\" class=\"dataframe\">\n",
       "  <thead>\n",
       "    <tr style=\"text-align: right;\">\n",
       "      <th></th>\n",
       "      <th>TABLE</th>\n",
       "      <th>COLUMN</th>\n",
       "      <th>DESCRIPTION</th>\n",
       "    </tr>\n",
       "  </thead>\n",
       "  <tbody>\n",
       "    <tr>\n",
       "      <th>0</th>\n",
       "      <td>patient</td>\n",
       "      <td>patient_id</td>\n",
       "      <td>patient identifier</td>\n",
       "    </tr>\n",
       "    <tr>\n",
       "      <th>1</th>\n",
       "      <td>patient</td>\n",
       "      <td>admission_dt</td>\n",
       "      <td>home health care admission date</td>\n",
       "    </tr>\n",
       "    <tr>\n",
       "      <th>2</th>\n",
       "      <td>patient</td>\n",
       "      <td>discharge_dt</td>\n",
       "      <td>home health care discharge date</td>\n",
       "    </tr>\n",
       "    <tr>\n",
       "      <th>3</th>\n",
       "      <td>patient</td>\n",
       "      <td>gender</td>\n",
       "      <td>patient gender</td>\n",
       "    </tr>\n",
       "    <tr>\n",
       "      <th>4</th>\n",
       "      <td>patient</td>\n",
       "      <td>date_of_birth</td>\n",
       "      <td>patient date of birth</td>\n",
       "    </tr>\n",
       "    <tr>\n",
       "      <th>5</th>\n",
       "      <td>patient</td>\n",
       "      <td>dyspnea_severity</td>\n",
       "      <td>dyspnea severity of patient at time time of ho...</td>\n",
       "    </tr>\n",
       "    <tr>\n",
       "      <th>6</th>\n",
       "      <td>patient</td>\n",
       "      <td>medication_count</td>\n",
       "      <td>count of medications prescribed to patient at ...</td>\n",
       "    </tr>\n",
       "    <tr>\n",
       "      <th>7</th>\n",
       "      <td>patient</td>\n",
       "      <td>sysupdate_timestamp</td>\n",
       "      <td>date that the information contained in the row...</td>\n",
       "    </tr>\n",
       "    <tr>\n",
       "      <th>8</th>\n",
       "      <td>diagnoses</td>\n",
       "      <td>patient_id</td>\n",
       "      <td>patient identifier</td>\n",
       "    </tr>\n",
       "    <tr>\n",
       "      <th>9</th>\n",
       "      <td>diagnoses</td>\n",
       "      <td>diagnosis</td>\n",
       "      <td>patient diagnosis at time time of home health ...</td>\n",
       "    </tr>\n",
       "    <tr>\n",
       "      <th>10</th>\n",
       "      <td>hospitalizations</td>\n",
       "      <td>patient_id</td>\n",
       "      <td>patient identifier</td>\n",
       "    </tr>\n",
       "    <tr>\n",
       "      <th>11</th>\n",
       "      <td>hospitalizations</td>\n",
       "      <td>hospitalization_dt</td>\n",
       "      <td>admission date to inpatient hospital</td>\n",
       "    </tr>\n",
       "  </tbody>\n",
       "</table>\n",
       "</div>"
      ],
      "text/plain": [
       "               TABLE               COLUMN  \\\n",
       "0            patient           patient_id   \n",
       "1            patient         admission_dt   \n",
       "2            patient         discharge_dt   \n",
       "3            patient               gender   \n",
       "4            patient        date_of_birth   \n",
       "5            patient     dyspnea_severity   \n",
       "6            patient     medication_count   \n",
       "7            patient  sysupdate_timestamp   \n",
       "8          diagnoses           patient_id   \n",
       "9          diagnoses            diagnosis   \n",
       "10  hospitalizations           patient_id   \n",
       "11  hospitalizations   hospitalization_dt   \n",
       "\n",
       "                                          DESCRIPTION  \n",
       "0                                  patient identifier  \n",
       "1                     home health care admission date  \n",
       "2                     home health care discharge date  \n",
       "3                                      patient gender  \n",
       "4                               patient date of birth  \n",
       "5   dyspnea severity of patient at time time of ho...  \n",
       "6   count of medications prescribed to patient at ...  \n",
       "7   date that the information contained in the row...  \n",
       "8                                  patient identifier  \n",
       "9   patient diagnosis at time time of home health ...  \n",
       "10                                 patient identifier  \n",
       "11               admission date to inpatient hospital  "
      ]
     },
     "execution_count": 2,
     "metadata": {},
     "output_type": "execute_result"
    }
   ],
   "source": [
    "data_dictionary = pd.read_excel('VNSNY Data Science Take Home Analysis 1.xlsx', sheet_name = 'data_dictionary')\n",
    "data_dictionary"
   ]
  },
  {
   "cell_type": "code",
   "execution_count": 3,
   "id": "5a63ed1b",
   "metadata": {},
   "outputs": [
    {
     "name": "stdout",
     "output_type": "stream",
     "text": [
      "There are 37421 patients\n"
     ]
    }
   ],
   "source": [
    "patient = pd.read_excel('VNSNY Data Science Take Home Analysis 1.xlsx', sheet_name = 'patient')\n",
    "patient = patient.sort_values(by='patient_id')\n",
    "#patient.dtypes\n",
    "\n",
    "# Total Number of Patients:\n",
    "size = patient['patient_id'].unique()\n",
    "print(\"There are\", size.size, \"patients\")"
   ]
  },
  {
   "cell_type": "markdown",
   "id": "793cf7e5",
   "metadata": {},
   "source": [
    "## Creating episode length variable"
   ]
  },
  {
   "cell_type": "code",
   "execution_count": 4,
   "id": "99626f2f",
   "metadata": {},
   "outputs": [
    {
     "data": {
      "text/html": [
       "<div>\n",
       "<style scoped>\n",
       "    .dataframe tbody tr th:only-of-type {\n",
       "        vertical-align: middle;\n",
       "    }\n",
       "\n",
       "    .dataframe tbody tr th {\n",
       "        vertical-align: top;\n",
       "    }\n",
       "\n",
       "    .dataframe thead th {\n",
       "        text-align: right;\n",
       "    }\n",
       "</style>\n",
       "<table border=\"1\" class=\"dataframe\">\n",
       "  <thead>\n",
       "    <tr style=\"text-align: right;\">\n",
       "      <th></th>\n",
       "      <th>patient_id</th>\n",
       "      <th>admission_dt</th>\n",
       "      <th>discharge_dt</th>\n",
       "      <th>gender</th>\n",
       "      <th>date_of_birth</th>\n",
       "      <th>dyspnea_severity</th>\n",
       "      <th>medication_count</th>\n",
       "      <th>sysupdate_timestamp</th>\n",
       "      <th>length</th>\n",
       "    </tr>\n",
       "  </thead>\n",
       "  <tbody>\n",
       "    <tr>\n",
       "      <th>13474</th>\n",
       "      <td>1</td>\n",
       "      <td>2014-01-01</td>\n",
       "      <td>2014-03-06</td>\n",
       "      <td>Female</td>\n",
       "      <td>1947-06-06</td>\n",
       "      <td>0</td>\n",
       "      <td>13</td>\n",
       "      <td>2014-03-07</td>\n",
       "      <td>64</td>\n",
       "    </tr>\n",
       "    <tr>\n",
       "      <th>9084</th>\n",
       "      <td>2</td>\n",
       "      <td>2014-01-01</td>\n",
       "      <td>2014-01-20</td>\n",
       "      <td>Female</td>\n",
       "      <td>1945-04-27</td>\n",
       "      <td>0</td>\n",
       "      <td>10</td>\n",
       "      <td>2014-01-21</td>\n",
       "      <td>19</td>\n",
       "    </tr>\n",
       "    <tr>\n",
       "      <th>16777</th>\n",
       "      <td>3</td>\n",
       "      <td>2014-01-01</td>\n",
       "      <td>2014-03-28</td>\n",
       "      <td>Male</td>\n",
       "      <td>1953-08-03</td>\n",
       "      <td>1</td>\n",
       "      <td>7</td>\n",
       "      <td>2014-03-29</td>\n",
       "      <td>86</td>\n",
       "    </tr>\n",
       "  </tbody>\n",
       "</table>\n",
       "</div>"
      ],
      "text/plain": [
       "       patient_id admission_dt discharge_dt  gender date_of_birth  \\\n",
       "13474           1   2014-01-01   2014-03-06  Female    1947-06-06   \n",
       "9084            2   2014-01-01   2014-01-20  Female    1945-04-27   \n",
       "16777           3   2014-01-01   2014-03-28    Male    1953-08-03   \n",
       "\n",
       "       dyspnea_severity  medication_count sysupdate_timestamp  length  \n",
       "13474                 0                13          2014-03-07      64  \n",
       "9084                  0                10          2014-01-21      19  \n",
       "16777                 1                 7          2014-03-29      86  "
      ]
     },
     "execution_count": 4,
     "metadata": {},
     "output_type": "execute_result"
    }
   ],
   "source": [
    "#lets create episode length as an INT !\n",
    "patient['length'] = patient['discharge_dt'] - patient['admission_dt'] \n",
    "patient['length'] = patient['length'].map(lambda x: str(x)[:-14]) #removing everything to get just the INT\n",
    "patient['length'] = pd.to_numeric(patient['length']) \n",
    "\n",
    "patient.head(3)"
   ]
  },
  {
   "cell_type": "code",
   "execution_count": 5,
   "id": "fc4d4433",
   "metadata": {},
   "outputs": [
    {
     "name": "stdout",
     "output_type": "stream",
     "text": [
      "Latest admission is: 2014-12-31 00:00:00\n",
      "Earliest admission is: 2014-01-01 00:00:00\n",
      "Latest discharge is: 2016-01-26 00:00:00\n",
      "Earliest Discharge is: 2014-01-02 00:00:00\n"
     ]
    }
   ],
   "source": [
    "print(\"Latest admission is:\", patient['admission_dt'].max())\n",
    "print(\"Earliest admission is:\", patient['admission_dt'].min())\n",
    "print(\"Latest discharge is:\", patient['discharge_dt'].max())\n",
    "print(\"Earliest Discharge is:\", patient['discharge_dt'].min())"
   ]
  },
  {
   "cell_type": "markdown",
   "id": "e2abb995",
   "metadata": {},
   "source": [
    "### Maybe treatment length goes down over a bigger time span, bc treatment gets better as time goes on"
   ]
  },
  {
   "cell_type": "code",
   "execution_count": 16,
   "id": "fe0f5b01",
   "metadata": {},
   "outputs": [
    {
     "data": {
      "image/png": "[encoded data removed]",
      "text/plain": [
       "<Figure size 720x432 with 1 Axes>"
      ]
     },
     "metadata": {
      "needs_background": "light"
     },
     "output_type": "display_data"
    }
   ],
   "source": [
    "#as time went on, did length increase or decrease .. no correlation\n",
    "plt.figure(figsize=(10,6))\n",
    "plt.scatter(patient['admission_dt'], patient.length, alpha=.65)\n",
    "plt.ylabel('Treatment Length', fontsize=13)\n",
    "plt.xlabel(\"Admission Date\",fontsize=13)\n",
    "plt.show()"
   ]
  },
  {
   "cell_type": "code",
   "execution_count": 17,
   "id": "1830bb38",
   "metadata": {},
   "outputs": [
    {
     "data": {
      "text/html": [
       "<div>\n",
       "<style scoped>\n",
       "    .dataframe tbody tr th:only-of-type {\n",
       "        vertical-align: middle;\n",
       "    }\n",
       "\n",
       "    .dataframe tbody tr th {\n",
       "        vertical-align: top;\n",
       "    }\n",
       "\n",
       "    .dataframe thead th {\n",
       "        text-align: right;\n",
       "    }\n",
       "</style>\n",
       "<table border=\"1\" class=\"dataframe\">\n",
       "  <thead>\n",
       "    <tr style=\"text-align: right;\">\n",
       "      <th></th>\n",
       "      <th>patient_id</th>\n",
       "      <th>admission_dt</th>\n",
       "      <th>discharge_dt</th>\n",
       "      <th>gender</th>\n",
       "      <th>date_of_birth</th>\n",
       "      <th>dyspnea_severity</th>\n",
       "      <th>medication_count</th>\n",
       "      <th>sysupdate_timestamp</th>\n",
       "      <th>length</th>\n",
       "    </tr>\n",
       "  </thead>\n",
       "  <tbody>\n",
       "  </tbody>\n",
       "</table>\n",
       "</div>"
      ],
      "text/plain": [
       "Empty DataFrame\n",
       "Columns: [patient_id, admission_dt, discharge_dt, gender, date_of_birth, dyspnea_severity, medication_count, sysupdate_timestamp, length]\n",
       "Index: []"
      ]
     },
     "execution_count": 17,
     "metadata": {},
     "output_type": "execute_result"
    }
   ],
   "source": [
    "#No June Admissions\n",
    "patient[patient['admission_dt'] == '2014-06']"
   ]
  },
  {
   "cell_type": "markdown",
   "id": "92d48897",
   "metadata": {},
   "source": [
    "## Looking at ages of patients"
   ]
  },
  {
   "cell_type": "code",
   "execution_count": 18,
   "id": "f63fdb6a",
   "metadata": {},
   "outputs": [
    {
     "name": "stdout",
     "output_type": "stream",
     "text": [
      "Avg patient age: 1942-02-10 02:06:37.810238592\n",
      "Youngest Patient: 2054-09-05 00:00:00\n",
      "Oldest Patient: 1891-01-20 00:00:00\n"
     ]
    }
   ],
   "source": [
    "print('Avg patient age:', patient['date_of_birth'].mean())\n",
    "print('Youngest Patient:', patient['date_of_birth'].max()) #Clearly an anomaly and bad data\n",
    "print('Oldest Patient:', patient['date_of_birth'].min()) #Could be dead, this would be something going forward to make analysis better"
   ]
  },
  {
   "cell_type": "code",
   "execution_count": 19,
   "id": "3c87774a",
   "metadata": {},
   "outputs": [
    {
     "data": {
      "text/html": [
       "<div>\n",
       "<style scoped>\n",
       "    .dataframe tbody tr th:only-of-type {\n",
       "        vertical-align: middle;\n",
       "    }\n",
       "\n",
       "    .dataframe tbody tr th {\n",
       "        vertical-align: top;\n",
       "    }\n",
       "\n",
       "    .dataframe thead th {\n",
       "        text-align: right;\n",
       "    }\n",
       "</style>\n",
       "<table border=\"1\" class=\"dataframe\">\n",
       "  <thead>\n",
       "    <tr style=\"text-align: right;\">\n",
       "      <th></th>\n",
       "      <th>patient_id</th>\n",
       "      <th>date_of_birth</th>\n",
       "    </tr>\n",
       "  </thead>\n",
       "  <tbody>\n",
       "    <tr>\n",
       "      <th>9640</th>\n",
       "      <td>4817</td>\n",
       "      <td>1896-02-17</td>\n",
       "    </tr>\n",
       "    <tr>\n",
       "      <th>1899</th>\n",
       "      <td>7029</td>\n",
       "      <td>1897-08-23</td>\n",
       "    </tr>\n",
       "    <tr>\n",
       "      <th>36836</th>\n",
       "      <td>10049</td>\n",
       "      <td>1899-07-17</td>\n",
       "    </tr>\n",
       "    <tr>\n",
       "      <th>8774</th>\n",
       "      <td>15479</td>\n",
       "      <td>1899-01-13</td>\n",
       "    </tr>\n",
       "    <tr>\n",
       "      <th>36812</th>\n",
       "      <td>23977</td>\n",
       "      <td>1898-04-03</td>\n",
       "    </tr>\n",
       "    <tr>\n",
       "      <th>37074</th>\n",
       "      <td>25917</td>\n",
       "      <td>1891-01-20</td>\n",
       "    </tr>\n",
       "  </tbody>\n",
       "</table>\n",
       "</div>"
      ],
      "text/plain": [
       "       patient_id date_of_birth\n",
       "9640         4817    1896-02-17\n",
       "1899         7029    1897-08-23\n",
       "36836       10049    1899-07-17\n",
       "8774        15479    1899-01-13\n",
       "36812       23977    1898-04-03\n",
       "37074       25917    1891-01-20"
      ]
     },
     "execution_count": 19,
     "metadata": {},
     "output_type": "execute_result"
    }
   ],
   "source": [
    "#Hey i mean these people could have died, just dont know really\n",
    "patient[patient['date_of_birth'] < '1900-01-01'][['patient_id','date_of_birth']]"
   ]
  },
  {
   "cell_type": "code",
   "execution_count": 20,
   "id": "55dcf266",
   "metadata": {},
   "outputs": [
    {
     "data": {
      "text/html": [
       "<div>\n",
       "<style scoped>\n",
       "    .dataframe tbody tr th:only-of-type {\n",
       "        vertical-align: middle;\n",
       "    }\n",
       "\n",
       "    .dataframe tbody tr th {\n",
       "        vertical-align: top;\n",
       "    }\n",
       "\n",
       "    .dataframe thead th {\n",
       "        text-align: right;\n",
       "    }\n",
       "</style>\n",
       "<table border=\"1\" class=\"dataframe\">\n",
       "  <thead>\n",
       "    <tr style=\"text-align: right;\">\n",
       "      <th></th>\n",
       "      <th>patient_id</th>\n",
       "      <th>date_of_birth</th>\n",
       "    </tr>\n",
       "  </thead>\n",
       "  <tbody>\n",
       "    <tr>\n",
       "      <th>36098</th>\n",
       "      <td>3722</td>\n",
       "      <td>2054-09-05</td>\n",
       "    </tr>\n",
       "    <tr>\n",
       "      <th>29269</th>\n",
       "      <td>14985</td>\n",
       "      <td>2035-12-08</td>\n",
       "    </tr>\n",
       "    <tr>\n",
       "      <th>29278</th>\n",
       "      <td>26622</td>\n",
       "      <td>2050-04-03</td>\n",
       "    </tr>\n",
       "    <tr>\n",
       "      <th>11959</th>\n",
       "      <td>35205</td>\n",
       "      <td>2032-06-14</td>\n",
       "    </tr>\n",
       "  </tbody>\n",
       "</table>\n",
       "</div>"
      ],
      "text/plain": [
       "       patient_id date_of_birth\n",
       "36098        3722    2054-09-05\n",
       "29269       14985    2035-12-08\n",
       "29278       26622    2050-04-03\n",
       "11959       35205    2032-06-14"
      ]
     },
     "execution_count": 20,
     "metadata": {},
     "output_type": "execute_result"
    }
   ],
   "source": [
    "patient[patient['date_of_birth'] > '2022-01-01'][['patient_id','date_of_birth']]\n",
    "#4 patients born in 2054, 2035, 2050, 2032"
   ]
  },
  {
   "cell_type": "code",
   "execution_count": 21,
   "id": "d817e373",
   "metadata": {},
   "outputs": [
    {
     "data": {
      "text/html": [
       "<div>\n",
       "<style scoped>\n",
       "    .dataframe tbody tr th:only-of-type {\n",
       "        vertical-align: middle;\n",
       "    }\n",
       "\n",
       "    .dataframe tbody tr th {\n",
       "        vertical-align: top;\n",
       "    }\n",
       "\n",
       "    .dataframe thead th {\n",
       "        text-align: right;\n",
       "    }\n",
       "</style>\n",
       "<table border=\"1\" class=\"dataframe\">\n",
       "  <thead>\n",
       "    <tr style=\"text-align: right;\">\n",
       "      <th></th>\n",
       "      <th>patient_id</th>\n",
       "      <th>date_of_birth</th>\n",
       "    </tr>\n",
       "  </thead>\n",
       "  <tbody>\n",
       "    <tr>\n",
       "      <th>36098</th>\n",
       "      <td>3722</td>\n",
       "      <td>1954-09-05</td>\n",
       "    </tr>\n",
       "    <tr>\n",
       "      <th>29269</th>\n",
       "      <td>14985</td>\n",
       "      <td>1935-09-05</td>\n",
       "    </tr>\n",
       "    <tr>\n",
       "      <th>29278</th>\n",
       "      <td>26622</td>\n",
       "      <td>1950-09-05</td>\n",
       "    </tr>\n",
       "    <tr>\n",
       "      <th>11959</th>\n",
       "      <td>35205</td>\n",
       "      <td>1932-09-05</td>\n",
       "    </tr>\n",
       "  </tbody>\n",
       "</table>\n",
       "</div>"
      ],
      "text/plain": [
       "       patient_id date_of_birth\n",
       "36098        3722    1954-09-05\n",
       "29269       14985    1935-09-05\n",
       "29278       26622    1950-09-05\n",
       "11959       35205    1932-09-05"
      ]
     },
     "execution_count": 21,
     "metadata": {},
     "output_type": "execute_result"
    }
   ],
   "source": [
    "patient['date_of_birth'][36098] = '1954-09-05'\n",
    "patient['date_of_birth'][29269] = '1935-09-05'\n",
    "patient['date_of_birth'][29278] = '1950-09-05'\n",
    "patient['date_of_birth'][11959] = '1932-09-05'\n",
    "#patient[patient['patient_id']][['patient_id','date_of_birth']]\n",
    "patient.loc[[36098, 29269,29278,11959]][['patient_id','date_of_birth']]"
   ]
  },
  {
   "cell_type": "code",
   "execution_count": 22,
   "id": "217ef8cb",
   "metadata": {},
   "outputs": [
    {
     "data": {
      "text/html": [
       "<div>\n",
       "<style scoped>\n",
       "    .dataframe tbody tr th:only-of-type {\n",
       "        vertical-align: middle;\n",
       "    }\n",
       "\n",
       "    .dataframe tbody tr th {\n",
       "        vertical-align: top;\n",
       "    }\n",
       "\n",
       "    .dataframe thead th {\n",
       "        text-align: right;\n",
       "    }\n",
       "</style>\n",
       "<table border=\"1\" class=\"dataframe\">\n",
       "  <thead>\n",
       "    <tr style=\"text-align: right;\">\n",
       "      <th></th>\n",
       "      <th>patient_id</th>\n",
       "      <th>dyspnea_severity</th>\n",
       "      <th>medication_count</th>\n",
       "      <th>length</th>\n",
       "    </tr>\n",
       "  </thead>\n",
       "  <tbody>\n",
       "    <tr>\n",
       "      <th>count</th>\n",
       "      <td>37452.00000</td>\n",
       "      <td>37452.000000</td>\n",
       "      <td>37452.000000</td>\n",
       "      <td>37452.000000</td>\n",
       "    </tr>\n",
       "    <tr>\n",
       "      <th>mean</th>\n",
       "      <td>19756.19027</td>\n",
       "      <td>0.695156</td>\n",
       "      <td>7.783056</td>\n",
       "      <td>40.828474</td>\n",
       "    </tr>\n",
       "    <tr>\n",
       "      <th>std</th>\n",
       "      <td>11612.15915</td>\n",
       "      <td>0.833765</td>\n",
       "      <td>2.788765</td>\n",
       "      <td>40.110332</td>\n",
       "    </tr>\n",
       "    <tr>\n",
       "      <th>min</th>\n",
       "      <td>1.00000</td>\n",
       "      <td>0.000000</td>\n",
       "      <td>0.000000</td>\n",
       "      <td>1.000000</td>\n",
       "    </tr>\n",
       "    <tr>\n",
       "      <th>25%</th>\n",
       "      <td>9357.75000</td>\n",
       "      <td>0.000000</td>\n",
       "      <td>6.000000</td>\n",
       "      <td>12.000000</td>\n",
       "    </tr>\n",
       "    <tr>\n",
       "      <th>50%</th>\n",
       "      <td>20588.50000</td>\n",
       "      <td>1.000000</td>\n",
       "      <td>8.000000</td>\n",
       "      <td>29.000000</td>\n",
       "    </tr>\n",
       "    <tr>\n",
       "      <th>75%</th>\n",
       "      <td>29939.25000</td>\n",
       "      <td>1.000000</td>\n",
       "      <td>10.000000</td>\n",
       "      <td>56.000000</td>\n",
       "    </tr>\n",
       "    <tr>\n",
       "      <th>max</th>\n",
       "      <td>39293.00000</td>\n",
       "      <td>7.000000</td>\n",
       "      <td>22.000000</td>\n",
       "      <td>437.000000</td>\n",
       "    </tr>\n",
       "  </tbody>\n",
       "</table>\n",
       "</div>"
      ],
      "text/plain": [
       "        patient_id  dyspnea_severity  medication_count        length\n",
       "count  37452.00000      37452.000000      37452.000000  37452.000000\n",
       "mean   19756.19027          0.695156          7.783056     40.828474\n",
       "std    11612.15915          0.833765          2.788765     40.110332\n",
       "min        1.00000          0.000000          0.000000      1.000000\n",
       "25%     9357.75000          0.000000          6.000000     12.000000\n",
       "50%    20588.50000          1.000000          8.000000     29.000000\n",
       "75%    29939.25000          1.000000         10.000000     56.000000\n",
       "max    39293.00000          7.000000         22.000000    437.000000"
      ]
     },
     "execution_count": 22,
     "metadata": {},
     "output_type": "execute_result"
    }
   ],
   "source": [
    "patient.describe()\n",
    "# count of patients below being 37452 is perfect, because 37452 - 31(28 patients with an extra episode, \n",
    "# AND + 3 patients having ANOTHER extra episode) = our patient count at 37421"
   ]
  },
  {
   "cell_type": "markdown",
   "id": "9eebe577",
   "metadata": {},
   "source": [
    "## Finding duplicate episode entries"
   ]
  },
  {
   "cell_type": "code",
   "execution_count": 23,
   "id": "7752871f",
   "metadata": {},
   "outputs": [
    {
     "data": {
      "text/html": [
       "<div>\n",
       "<style scoped>\n",
       "    .dataframe tbody tr th:only-of-type {\n",
       "        vertical-align: middle;\n",
       "    }\n",
       "\n",
       "    .dataframe tbody tr th {\n",
       "        vertical-align: top;\n",
       "    }\n",
       "\n",
       "    .dataframe thead th {\n",
       "        text-align: right;\n",
       "    }\n",
       "</style>\n",
       "<table border=\"1\" class=\"dataframe\">\n",
       "  <thead>\n",
       "    <tr style=\"text-align: right;\">\n",
       "      <th></th>\n",
       "      <th>patient_id</th>\n",
       "      <th>admission_dt</th>\n",
       "    </tr>\n",
       "  </thead>\n",
       "  <tbody>\n",
       "    <tr>\n",
       "      <th>0</th>\n",
       "      <td>31041</td>\n",
       "      <td>3</td>\n",
       "    </tr>\n",
       "    <tr>\n",
       "      <th>1</th>\n",
       "      <td>30651</td>\n",
       "      <td>3</td>\n",
       "    </tr>\n",
       "    <tr>\n",
       "      <th>2</th>\n",
       "      <td>28205</td>\n",
       "      <td>3</td>\n",
       "    </tr>\n",
       "    <tr>\n",
       "      <th>3</th>\n",
       "      <td>751</td>\n",
       "      <td>2</td>\n",
       "    </tr>\n",
       "  </tbody>\n",
       "</table>\n",
       "</div>"
      ],
      "text/plain": [
       "   patient_id  admission_dt\n",
       "0       31041             3\n",
       "1       30651             3\n",
       "2       28205             3\n",
       "3         751             2"
      ]
     },
     "execution_count": 23,
     "metadata": {},
     "output_type": "execute_result"
    }
   ],
   "source": [
    "total = (\n",
    "    patient.groupby(['patient_id'])\n",
    "    .agg({'admission_dt':'count'})\n",
    "    .reset_index()\n",
    "    .sort_values(by=['admission_dt'],ascending=False)\n",
    "    .reset_index(drop=True)\n",
    "    )\n",
    "total.head(4) \n",
    "# Showing that out of 37421 patients,  28 have had more than one episode.. \n",
    "# the most being 3 with this just being 3 patients"
   ]
  },
  {
   "cell_type": "code",
   "execution_count": 24,
   "id": "7392efc1",
   "metadata": {},
   "outputs": [
    {
     "data": {
      "text/html": [
       "<div>\n",
       "<style scoped>\n",
       "    .dataframe tbody tr th:only-of-type {\n",
       "        vertical-align: middle;\n",
       "    }\n",
       "\n",
       "    .dataframe tbody tr th {\n",
       "        vertical-align: top;\n",
       "    }\n",
       "\n",
       "    .dataframe thead th {\n",
       "        text-align: right;\n",
       "    }\n",
       "</style>\n",
       "<table border=\"1\" class=\"dataframe\">\n",
       "  <thead>\n",
       "    <tr style=\"text-align: right;\">\n",
       "      <th></th>\n",
       "      <th>patient_id</th>\n",
       "      <th>admission_dt</th>\n",
       "      <th>discharge_dt</th>\n",
       "      <th>gender</th>\n",
       "      <th>date_of_birth</th>\n",
       "      <th>dyspnea_severity</th>\n",
       "      <th>medication_count</th>\n",
       "      <th>sysupdate_timestamp</th>\n",
       "      <th>length</th>\n",
       "    </tr>\n",
       "  </thead>\n",
       "  <tbody>\n",
       "    <tr>\n",
       "      <th>11956</th>\n",
       "      <td>31041</td>\n",
       "      <td>2014-10-12</td>\n",
       "      <td>2014-11-22</td>\n",
       "      <td>male</td>\n",
       "      <td>NaT</td>\n",
       "      <td>0</td>\n",
       "      <td>8</td>\n",
       "      <td>2014-11-23</td>\n",
       "      <td>41</td>\n",
       "    </tr>\n",
       "    <tr>\n",
       "      <th>24077</th>\n",
       "      <td>31041</td>\n",
       "      <td>2014-10-12</td>\n",
       "      <td>2014-11-22</td>\n",
       "      <td>male</td>\n",
       "      <td>1964-05-07</td>\n",
       "      <td>0</td>\n",
       "      <td>8</td>\n",
       "      <td>2014-12-03</td>\n",
       "      <td>41</td>\n",
       "    </tr>\n",
       "    <tr>\n",
       "      <th>25628</th>\n",
       "      <td>31041</td>\n",
       "      <td>2014-10-12</td>\n",
       "      <td>2014-11-22</td>\n",
       "      <td>male</td>\n",
       "      <td>1964-05-07</td>\n",
       "      <td>0</td>\n",
       "      <td>8</td>\n",
       "      <td>2014-12-02</td>\n",
       "      <td>41</td>\n",
       "    </tr>\n",
       "  </tbody>\n",
       "</table>\n",
       "</div>"
      ],
      "text/plain": [
       "       patient_id admission_dt discharge_dt gender date_of_birth  \\\n",
       "11956       31041   2014-10-12   2014-11-22   male           NaT   \n",
       "24077       31041   2014-10-12   2014-11-22   male    1964-05-07   \n",
       "25628       31041   2014-10-12   2014-11-22   male    1964-05-07   \n",
       "\n",
       "       dyspnea_severity  medication_count sysupdate_timestamp  length  \n",
       "11956                 0                 8          2014-11-23      41  \n",
       "24077                 0                 8          2014-12-03      41  \n",
       "25628                 0                 8          2014-12-02      41  "
      ]
     },
     "execution_count": 24,
     "metadata": {},
     "output_type": "execute_result"
    }
   ],
   "source": [
    "#patient with more than one episode we see is a mistake\n",
    "patient[patient['patient_id'] == 31041]"
   ]
  },
  {
   "cell_type": "code",
   "execution_count": 25,
   "id": "b4691bbb",
   "metadata": {},
   "outputs": [
    {
     "data": {
      "text/html": [
       "<div>\n",
       "<style scoped>\n",
       "    .dataframe tbody tr th:only-of-type {\n",
       "        vertical-align: middle;\n",
       "    }\n",
       "\n",
       "    .dataframe tbody tr th {\n",
       "        vertical-align: top;\n",
       "    }\n",
       "\n",
       "    .dataframe thead th {\n",
       "        text-align: right;\n",
       "    }\n",
       "</style>\n",
       "<table border=\"1\" class=\"dataframe\">\n",
       "  <thead>\n",
       "    <tr style=\"text-align: right;\">\n",
       "      <th></th>\n",
       "      <th>patient_id</th>\n",
       "      <th>admission_dt</th>\n",
       "      <th>discharge_dt</th>\n",
       "      <th>gender</th>\n",
       "      <th>date_of_birth</th>\n",
       "      <th>dyspnea_severity</th>\n",
       "      <th>medication_count</th>\n",
       "      <th>sysupdate_timestamp</th>\n",
       "      <th>length</th>\n",
       "    </tr>\n",
       "  </thead>\n",
       "  <tbody>\n",
       "    <tr>\n",
       "      <th>25628</th>\n",
       "      <td>31041</td>\n",
       "      <td>2014-10-12</td>\n",
       "      <td>2014-11-22</td>\n",
       "      <td>male</td>\n",
       "      <td>1964-05-07</td>\n",
       "      <td>0</td>\n",
       "      <td>8</td>\n",
       "      <td>2014-12-02</td>\n",
       "      <td>41</td>\n",
       "    </tr>\n",
       "  </tbody>\n",
       "</table>\n",
       "</div>"
      ],
      "text/plain": [
       "       patient_id admission_dt discharge_dt gender date_of_birth  \\\n",
       "25628       31041   2014-10-12   2014-11-22   male    1964-05-07   \n",
       "\n",
       "       dyspnea_severity  medication_count sysupdate_timestamp  length  \n",
       "25628                 0                 8          2014-12-02      41  "
      ]
     },
     "execution_count": 25,
     "metadata": {},
     "output_type": "execute_result"
    }
   ],
   "source": [
    "patient = patient.sort_values(by=['date_of_birth', 'gender', 'discharge_dt', 'admission_dt', 'patient_id', 'dyspnea_severity', 'medication_count', 'sysupdate_timestamp'])\n",
    "# sorting by all these just in case there is a NaN value, because when we drop duplicates \n",
    "# we are going to keep only the top row. So we dont want the top rows of duplicates to have NaN values\n",
    "\n",
    "\n",
    "patient = patient.drop_duplicates(subset=['patient_id'], keep='first')\n",
    "patient[patient['patient_id'] == 31041] #checking.. no duplicates :)"
   ]
  },
  {
   "cell_type": "code",
   "execution_count": 26,
   "id": "63bdfea8",
   "metadata": {},
   "outputs": [
    {
     "data": {
      "text/plain": [
       "False"
      ]
     },
     "execution_count": 26,
     "metadata": {},
     "output_type": "execute_result"
    }
   ],
   "source": [
    "#Further Checking, False = no duplicates\n",
    "boolean = not patient[\"patient_id\"].is_unique\n",
    "boolean = patient['patient_id'].duplicated().any()\n",
    "boolean"
   ]
  },
  {
   "cell_type": "markdown",
   "id": "881359ce",
   "metadata": {},
   "source": [
    "## Quick gender fix"
   ]
  },
  {
   "cell_type": "code",
   "execution_count": 27,
   "id": "c02498f2",
   "metadata": {},
   "outputs": [
    {
     "data": {
      "text/plain": [
       "Female    22300\n",
       "Male      14992\n",
       "female       82\n",
       "male         46\n",
       "Name: gender, dtype: int64"
      ]
     },
     "execution_count": 27,
     "metadata": {},
     "output_type": "execute_result"
    }
   ],
   "source": [
    "#how many males and females\n",
    "patient['gender'].value_counts()\n",
    "#note that i changed this"
   ]
  },
  {
   "cell_type": "code",
   "execution_count": 29,
   "id": "68398c36",
   "metadata": {},
   "outputs": [
    {
     "data": {
      "text/plain": [
       "Female    22382\n",
       "Male      15038\n",
       "Name: gender, dtype: int64"
      ]
     },
     "execution_count": 29,
     "metadata": {},
     "output_type": "execute_result"
    }
   ],
   "source": [
    "#fixing this^\n",
    "patient['gender'] = patient['gender'].replace(to_replace='female', value='Female')\n",
    "patient['gender'] = patient['gender'].replace(to_replace='male', value='Male')\n",
    "patient['gender'].value_counts()"
   ]
  },
  {
   "cell_type": "code",
   "execution_count": 221,
   "id": "46f9857c",
   "metadata": {},
   "outputs": [
    {
     "data": {
      "text/plain": [
       "0    18671\n",
       "1    12985\n",
       "2     4507\n",
       "3     1050\n",
       "4      184\n",
       "5       18\n",
       "6        4\n",
       "7        2\n",
       "Name: dyspnea_severity, dtype: int64"
      ]
     },
     "execution_count": 221,
     "metadata": {},
     "output_type": "execute_result"
    }
   ],
   "source": [
    "patient['dyspnea_severity'].value_counts()"
   ]
  },
  {
   "cell_type": "code",
   "execution_count": 222,
   "id": "3ba6ba34",
   "metadata": {},
   "outputs": [
    {
     "data": {
      "image/png": "[encoded data removed]",
      "text/plain": [
       "<Figure size 600x600 with 1 Axes>"
      ]
     },
     "metadata": {},
     "output_type": "display_data"
    }
   ],
   "source": [
    "plt.figure(figsize=(6,6))\n",
    "plt.hist(patient['dyspnea_severity'], bins=8, align='mid')\n",
    "plt.grid(True, alpha=.1)\n",
    "plt.text(.1, 18800, \"18671\")\n",
    "plt.text(.94,13100, \"12985\")\n",
    "plt.text(1.92, 4550,\"4507\")\n",
    "plt.text(2.75,1110, \"1050\")\n",
    "plt.text(3.71,270, \"184\")\n",
    "plt.text(4.72,90, \"18\")\n",
    "plt.text(5.9,40, \"4\")\n",
    "plt.text(6.9,40, \"2\")\n",
    "plt.xlabel('Severity Rating')\n",
    "plt.title('Dyspnea Severity Counts')\n",
    "plt.ylabel('Total Patients')\n",
    "plt.show()"
   ]
  },
  {
   "cell_type": "markdown",
   "id": "500122d3",
   "metadata": {},
   "source": [
    "## Now opening up the important diagnoses"
   ]
  },
  {
   "cell_type": "code",
   "execution_count": 31,
   "id": "e75e7abf",
   "metadata": {},
   "outputs": [
    {
     "data": {
      "text/html": [
       "<div>\n",
       "<style scoped>\n",
       "    .dataframe tbody tr th:only-of-type {\n",
       "        vertical-align: middle;\n",
       "    }\n",
       "\n",
       "    .dataframe tbody tr th {\n",
       "        vertical-align: top;\n",
       "    }\n",
       "\n",
       "    .dataframe thead th {\n",
       "        text-align: right;\n",
       "    }\n",
       "</style>\n",
       "<table border=\"1\" class=\"dataframe\">\n",
       "  <thead>\n",
       "    <tr style=\"text-align: right;\">\n",
       "      <th></th>\n",
       "      <th>patient_id</th>\n",
       "      <th>diagnosis</th>\n",
       "    </tr>\n",
       "  </thead>\n",
       "  <tbody>\n",
       "    <tr>\n",
       "      <th>29627</th>\n",
       "      <td>1</td>\n",
       "      <td>ARTHRITIS</td>\n",
       "    </tr>\n",
       "    <tr>\n",
       "      <th>32288</th>\n",
       "      <td>1</td>\n",
       "      <td>HYPERTENSION</td>\n",
       "    </tr>\n",
       "    <tr>\n",
       "      <th>25296</th>\n",
       "      <td>1</td>\n",
       "      <td>PULMONARY DISEASE</td>\n",
       "    </tr>\n",
       "    <tr>\n",
       "      <th>20807</th>\n",
       "      <td>2</td>\n",
       "      <td>CHF</td>\n",
       "    </tr>\n",
       "    <tr>\n",
       "      <th>24095</th>\n",
       "      <td>3</td>\n",
       "      <td>HYPERTENSION</td>\n",
       "    </tr>\n",
       "  </tbody>\n",
       "</table>\n",
       "</div>"
      ],
      "text/plain": [
       "       patient_id          diagnosis\n",
       "29627           1          ARTHRITIS\n",
       "32288           1       HYPERTENSION\n",
       "25296           1  PULMONARY DISEASE\n",
       "20807           2                CHF\n",
       "24095           3       HYPERTENSION"
      ]
     },
     "execution_count": 31,
     "metadata": {},
     "output_type": "execute_result"
    }
   ],
   "source": [
    "diagnoses = pd.read_excel('VNSNY Data Science Take Home Analysis 1.xlsx', sheet_name = 'diagnoses')\n",
    "diagnoses.sort_values(by='patient_id').head()"
   ]
  },
  {
   "cell_type": "code",
   "execution_count": 33,
   "id": "fae2e86d",
   "metadata": {},
   "outputs": [
    {
     "data": {
      "text/plain": [
       "array(['ARTHRITIS', 'HYPERTENSION', 'DIABETES', 'CHF',\n",
       "       'PULMONARY DISEASE', 'AMI', 'STROKE'], dtype=object)"
      ]
     },
     "execution_count": 33,
     "metadata": {},
     "output_type": "execute_result"
    }
   ],
   "source": [
    "diagnoses['diagnosis'].unique()"
   ]
  },
  {
   "cell_type": "code",
   "execution_count": 36,
   "id": "ac504df9",
   "metadata": {},
   "outputs": [
    {
     "data": {
      "text/plain": [
       "0"
      ]
     },
     "execution_count": 36,
     "metadata": {},
     "output_type": "execute_result"
    }
   ],
   "source": [
    "diagnoses['diagnosis'].isna().sum()"
   ]
  },
  {
   "cell_type": "code",
   "execution_count": 39,
   "id": "6c7719e6",
   "metadata": {},
   "outputs": [
    {
     "data": {
      "text/plain": [
       "HYPERTENSION         11141\n",
       "DIABETES              7498\n",
       "ARTHRITIS             5795\n",
       "CHF                   4816\n",
       "PULMONARY DISEASE     4438\n",
       "AMI                   4260\n",
       "STROKE                3074\n",
       "Name: diagnosis, dtype: int64"
      ]
     },
     "execution_count": 39,
     "metadata": {},
     "output_type": "execute_result"
    }
   ],
   "source": [
    "diagnoses['diagnosis'].value_counts()"
   ]
  },
  {
   "cell_type": "code",
   "execution_count": 53,
   "id": "3356022a",
   "metadata": {},
   "outputs": [
    {
     "data": {
      "image/png": "[encoded data removed]",
      "text/plain": [
       "<Figure size 432x288 with 1 Axes>"
      ]
     },
     "metadata": {},
     "output_type": "display_data"
    }
   ],
   "source": [
    "injuries = [\"Hypertension: 27.2%\", \"Diabetes: 18.3%\", \"Arthritis: 14.1%\", \"CHF: 11.7%\", \"Pulmonary Disease: 10.8%\", \"AMI: 10.4%\", \"Strokes: 7.5%\"]\n",
    "percent = [27.2, 18.3, 14.1, 11.7, 10.8, 10.4, 7.5]\n",
    "\n",
    "plt.figure(figsize=(6,4))\n",
    "plt.pie(percent, labels=injuries)\n",
    "plt.show()"
   ]
  },
  {
   "cell_type": "code",
   "execution_count": null,
   "id": "e31b6dce",
   "metadata": {},
   "outputs": [],
   "source": []
  },
  {
   "cell_type": "markdown",
   "id": "fd9e2792",
   "metadata": {},
   "source": [
    "## Also important hospitalizations"
   ]
  },
  {
   "cell_type": "code",
   "execution_count": 173,
   "id": "d88ebecd",
   "metadata": {},
   "outputs": [
    {
     "data": {
      "text/html": [
       "<div>\n",
       "<style scoped>\n",
       "    .dataframe tbody tr th:only-of-type {\n",
       "        vertical-align: middle;\n",
       "    }\n",
       "\n",
       "    .dataframe tbody tr th {\n",
       "        vertical-align: top;\n",
       "    }\n",
       "\n",
       "    .dataframe thead th {\n",
       "        text-align: right;\n",
       "    }\n",
       "</style>\n",
       "<table border=\"1\" class=\"dataframe\">\n",
       "  <thead>\n",
       "    <tr style=\"text-align: right;\">\n",
       "      <th></th>\n",
       "      <th>index</th>\n",
       "      <th>patient_id</th>\n",
       "      <th>hospitalization_dt</th>\n",
       "    </tr>\n",
       "  </thead>\n",
       "  <tbody>\n",
       "    <tr>\n",
       "      <th>0</th>\n",
       "      <td>25</td>\n",
       "      <td>48</td>\n",
       "      <td>2014-01-02</td>\n",
       "    </tr>\n",
       "    <tr>\n",
       "      <th>1</th>\n",
       "      <td>40</td>\n",
       "      <td>96</td>\n",
       "      <td>2014-01-02</td>\n",
       "    </tr>\n",
       "    <tr>\n",
       "      <th>2</th>\n",
       "      <td>14</td>\n",
       "      <td>28</td>\n",
       "      <td>2014-01-02</td>\n",
       "    </tr>\n",
       "    <tr>\n",
       "      <th>3</th>\n",
       "      <td>1</td>\n",
       "      <td>3</td>\n",
       "      <td>2014-01-03</td>\n",
       "    </tr>\n",
       "    <tr>\n",
       "      <th>4</th>\n",
       "      <td>37</td>\n",
       "      <td>91</td>\n",
       "      <td>2014-01-03</td>\n",
       "    </tr>\n",
       "    <tr>\n",
       "      <th>...</th>\n",
       "      <td>...</td>\n",
       "      <td>...</td>\n",
       "      <td>...</td>\n",
       "    </tr>\n",
       "    <tr>\n",
       "      <th>15392</th>\n",
       "      <td>15165</td>\n",
       "      <td>38800</td>\n",
       "      <td>2015-06-16</td>\n",
       "    </tr>\n",
       "    <tr>\n",
       "      <th>15393</th>\n",
       "      <td>13128</td>\n",
       "      <td>34192</td>\n",
       "      <td>2015-07-03</td>\n",
       "    </tr>\n",
       "    <tr>\n",
       "      <th>15394</th>\n",
       "      <td>15343</td>\n",
       "      <td>39207</td>\n",
       "      <td>2015-07-08</td>\n",
       "    </tr>\n",
       "    <tr>\n",
       "      <th>15395</th>\n",
       "      <td>9640</td>\n",
       "      <td>26612</td>\n",
       "      <td>2015-07-11</td>\n",
       "    </tr>\n",
       "    <tr>\n",
       "      <th>15396</th>\n",
       "      <td>14429</td>\n",
       "      <td>37182</td>\n",
       "      <td>2015-08-12</td>\n",
       "    </tr>\n",
       "  </tbody>\n",
       "</table>\n",
       "<p>15397 rows × 3 columns</p>\n",
       "</div>"
      ],
      "text/plain": [
       "       index  patient_id hospitalization_dt\n",
       "0         25          48         2014-01-02\n",
       "1         40          96         2014-01-02\n",
       "2         14          28         2014-01-02\n",
       "3          1           3         2014-01-03\n",
       "4         37          91         2014-01-03\n",
       "...      ...         ...                ...\n",
       "15392  15165       38800         2015-06-16\n",
       "15393  13128       34192         2015-07-03\n",
       "15394  15343       39207         2015-07-08\n",
       "15395   9640       26612         2015-07-11\n",
       "15396  14429       37182         2015-08-12\n",
       "\n",
       "[15397 rows x 3 columns]"
      ]
     },
     "execution_count": 173,
     "metadata": {},
     "output_type": "execute_result"
    }
   ],
   "source": [
    "hospitals = pd.read_excel('VNSNY Data Science Take Home Analysis 1.xlsx', sheet_name = 'hospitalizations')\n",
    "hospitals = hospitals.sort_values(by='hospitalization_dt').reset_index()\n",
    "hospitals\n",
    "#not every patient has a hospitalization"
   ]
  },
  {
   "cell_type": "code",
   "execution_count": 38,
   "id": "c72e7462",
   "metadata": {},
   "outputs": [
    {
     "data": {
      "text/plain": [
       "0"
      ]
     },
     "execution_count": 38,
     "metadata": {},
     "output_type": "execute_result"
    }
   ],
   "source": [
    "hospitals['hospitalization_dt'].isna().sum()\n"
   ]
  },
  {
   "cell_type": "code",
   "execution_count": 174,
   "id": "8a090570",
   "metadata": {},
   "outputs": [
    {
     "data": {
      "text/plain": [
       "Timestamp('2014-01-02 00:00:00')"
      ]
     },
     "execution_count": 174,
     "metadata": {},
     "output_type": "execute_result"
    }
   ],
   "source": [
    "hospitals['hospitalization_dt'][1]"
   ]
  },
  {
   "cell_type": "markdown",
   "id": "8a164816",
   "metadata": {},
   "source": [
    "## Plotted to see gap in data in April"
   ]
  },
  {
   "cell_type": "code",
   "execution_count": 186,
   "id": "254b63ea",
   "metadata": {},
   "outputs": [
    {
     "data": {
      "image/png": "[encoded data removed]",
      "text/plain": [
       "<Figure size 2000x500 with 1 Axes>"
      ]
     },
     "metadata": {},
     "output_type": "display_data"
    }
   ],
   "source": [
    "plt.figure(figsize=(20,5))\n",
    "plt.scatter(hospitals['hospitalization_dt'],hospitals['patient_id'])\n",
    "plt.show()"
   ]
  },
  {
   "cell_type": "code",
   "execution_count": 211,
   "id": "7894e9c1",
   "metadata": {},
   "outputs": [
    {
     "name": "stdout",
     "output_type": "stream",
     "text": [
      "Empty DataFrame\n",
      "Columns: [index, patient_id, hospitalization_dt]\n",
      "Index: []\n",
      "Empty DataFrame\n",
      "Columns: [index, patient_id, hospitalization_dt]\n",
      "Index: []\n"
     ]
    }
   ],
   "source": [
    "#No hospitalizations from 4/4 to 4/27\n",
    "print(hospitals[hospitals['hospitalization_dt'] == '2014-04-4'])\n",
    "print(hospitals[hospitals['hospitalization_dt'] == '2014-04-27'])"
   ]
  },
  {
   "cell_type": "markdown",
   "id": "7b52c027",
   "metadata": {},
   "source": [
    "## How many Hospitalizations per patient"
   ]
  },
  {
   "cell_type": "code",
   "execution_count": 164,
   "id": "ab36835a",
   "metadata": {},
   "outputs": [
    {
     "data": {
      "text/html": [
       "<div>\n",
       "<style scoped>\n",
       "    .dataframe tbody tr th:only-of-type {\n",
       "        vertical-align: middle;\n",
       "    }\n",
       "\n",
       "    .dataframe tbody tr th {\n",
       "        vertical-align: top;\n",
       "    }\n",
       "\n",
       "    .dataframe thead th {\n",
       "        text-align: right;\n",
       "    }\n",
       "</style>\n",
       "<table border=\"1\" class=\"dataframe\">\n",
       "  <thead>\n",
       "    <tr style=\"text-align: right;\">\n",
       "      <th></th>\n",
       "      <th>patient_id</th>\n",
       "      <th>hospitalization_dt</th>\n",
       "    </tr>\n",
       "  </thead>\n",
       "  <tbody>\n",
       "    <tr>\n",
       "      <th>0</th>\n",
       "      <td>23797</td>\n",
       "      <td>6</td>\n",
       "    </tr>\n",
       "    <tr>\n",
       "      <th>1</th>\n",
       "      <td>31220</td>\n",
       "      <td>5</td>\n",
       "    </tr>\n",
       "    <tr>\n",
       "      <th>2</th>\n",
       "      <td>27141</td>\n",
       "      <td>5</td>\n",
       "    </tr>\n",
       "    <tr>\n",
       "      <th>3</th>\n",
       "      <td>29929</td>\n",
       "      <td>5</td>\n",
       "    </tr>\n",
       "    <tr>\n",
       "      <th>4</th>\n",
       "      <td>35553</td>\n",
       "      <td>5</td>\n",
       "    </tr>\n",
       "    <tr>\n",
       "      <th>...</th>\n",
       "      <td>...</td>\n",
       "      <td>...</td>\n",
       "    </tr>\n",
       "    <tr>\n",
       "      <th>12418</th>\n",
       "      <td>15552</td>\n",
       "      <td>1</td>\n",
       "    </tr>\n",
       "    <tr>\n",
       "      <th>12419</th>\n",
       "      <td>15555</td>\n",
       "      <td>1</td>\n",
       "    </tr>\n",
       "    <tr>\n",
       "      <th>12420</th>\n",
       "      <td>15556</td>\n",
       "      <td>1</td>\n",
       "    </tr>\n",
       "    <tr>\n",
       "      <th>12421</th>\n",
       "      <td>15559</td>\n",
       "      <td>1</td>\n",
       "    </tr>\n",
       "    <tr>\n",
       "      <th>12422</th>\n",
       "      <td>22078</td>\n",
       "      <td>1</td>\n",
       "    </tr>\n",
       "  </tbody>\n",
       "</table>\n",
       "<p>12423 rows × 2 columns</p>\n",
       "</div>"
      ],
      "text/plain": [
       "       patient_id  hospitalization_dt\n",
       "0           23797                   6\n",
       "1           31220                   5\n",
       "2           27141                   5\n",
       "3           29929                   5\n",
       "4           35553                   5\n",
       "...           ...                 ...\n",
       "12418       15552                   1\n",
       "12419       15555                   1\n",
       "12420       15556                   1\n",
       "12421       15559                   1\n",
       "12422       22078                   1\n",
       "\n",
       "[12423 rows x 2 columns]"
      ]
     },
     "execution_count": 164,
     "metadata": {},
     "output_type": "execute_result"
    }
   ],
   "source": [
    "hosp = (\n",
    "    hospitals.groupby(['patient_id'])\n",
    "    .agg({'hospitalization_dt':'count'})\n",
    "    .reset_index()\n",
    "    .sort_values(by=['hospitalization_dt'],ascending=False)\n",
    "    .reset_index(drop=True)\n",
    "    )\n",
    "hosp"
   ]
  },
  {
   "cell_type": "markdown",
   "id": "0bca54c8",
   "metadata": {},
   "source": [
    "## How many diagnoses per patient"
   ]
  },
  {
   "cell_type": "code",
   "execution_count": 214,
   "id": "0ac925d9",
   "metadata": {},
   "outputs": [
    {
     "data": {
      "text/html": [
       "<div>\n",
       "<style scoped>\n",
       "    .dataframe tbody tr th:only-of-type {\n",
       "        vertical-align: middle;\n",
       "    }\n",
       "\n",
       "    .dataframe tbody tr th {\n",
       "        vertical-align: top;\n",
       "    }\n",
       "\n",
       "    .dataframe thead th {\n",
       "        text-align: right;\n",
       "    }\n",
       "</style>\n",
       "<table border=\"1\" class=\"dataframe\">\n",
       "  <thead>\n",
       "    <tr style=\"text-align: right;\">\n",
       "      <th></th>\n",
       "      <th>patient_id</th>\n",
       "      <th>diagnosis</th>\n",
       "    </tr>\n",
       "  </thead>\n",
       "  <tbody>\n",
       "    <tr>\n",
       "      <th>0</th>\n",
       "      <td>38598</td>\n",
       "      <td>6</td>\n",
       "    </tr>\n",
       "    <tr>\n",
       "      <th>1</th>\n",
       "      <td>37256</td>\n",
       "      <td>6</td>\n",
       "    </tr>\n",
       "    <tr>\n",
       "      <th>2</th>\n",
       "      <td>12671</td>\n",
       "      <td>5</td>\n",
       "    </tr>\n",
       "    <tr>\n",
       "      <th>3</th>\n",
       "      <td>34573</td>\n",
       "      <td>5</td>\n",
       "    </tr>\n",
       "    <tr>\n",
       "      <th>4</th>\n",
       "      <td>38108</td>\n",
       "      <td>5</td>\n",
       "    </tr>\n",
       "    <tr>\n",
       "      <th>...</th>\n",
       "      <td>...</td>\n",
       "      <td>...</td>\n",
       "    </tr>\n",
       "    <tr>\n",
       "      <th>25574</th>\n",
       "      <td>2589</td>\n",
       "      <td>1</td>\n",
       "    </tr>\n",
       "    <tr>\n",
       "      <th>25575</th>\n",
       "      <td>19758</td>\n",
       "      <td>1</td>\n",
       "    </tr>\n",
       "    <tr>\n",
       "      <th>25576</th>\n",
       "      <td>2583</td>\n",
       "      <td>1</td>\n",
       "    </tr>\n",
       "    <tr>\n",
       "      <th>25577</th>\n",
       "      <td>19761</td>\n",
       "      <td>1</td>\n",
       "    </tr>\n",
       "    <tr>\n",
       "      <th>25578</th>\n",
       "      <td>22751</td>\n",
       "      <td>1</td>\n",
       "    </tr>\n",
       "  </tbody>\n",
       "</table>\n",
       "<p>25579 rows × 2 columns</p>\n",
       "</div>"
      ],
      "text/plain": [
       "       patient_id  diagnosis\n",
       "0           38598          6\n",
       "1           37256          6\n",
       "2           12671          5\n",
       "3           34573          5\n",
       "4           38108          5\n",
       "...           ...        ...\n",
       "25574        2589          1\n",
       "25575       19758          1\n",
       "25576        2583          1\n",
       "25577       19761          1\n",
       "25578       22751          1\n",
       "\n",
       "[25579 rows x 2 columns]"
      ]
     },
     "execution_count": 214,
     "metadata": {},
     "output_type": "execute_result"
    }
   ],
   "source": [
    "diag = (\n",
    "    diagnoses.groupby(['patient_id'])\n",
    "    .agg({'diagnosis':'count'})\n",
    "    .reset_index()\n",
    "    .sort_values(by=['diagnosis'],ascending=False)\n",
    "    .reset_index(drop=True)\n",
    "    )\n",
    "diag"
   ]
  },
  {
   "cell_type": "markdown",
   "id": "05f245a6",
   "metadata": {},
   "source": [
    "## Plot Correlation function"
   ]
  },
  {
   "cell_type": "code",
   "execution_count": 56,
   "id": "d4a61304",
   "metadata": {},
   "outputs": [],
   "source": [
    "#rx and ry are coordinates of where the plt.text goes\n",
    "def plot_corr(df, col1, col2, title, rx, ry):\n",
    "    x = df[col1]\n",
    "    y = df[col2]\n",
    "    slope, intercept, r_value, p_value, std_err = stats.linregress(x,y)\n",
    "    rsqr = r_value**2\n",
    "\n",
    "    \n",
    "    fig, ax = plt.subplots()\n",
    "    df[[col1,col2]].plot(kind='scatter', x=col1, y=col2, \n",
    "                                                           title=title, ax=ax)\n",
    "    ax.plot(x, intercept+(slope*x), color='grey', linestyle='--')\n",
    "    ax.text(rx, ry, '$R^2 = %0.4f$'%rsqr, fontsize=20)"
   ]
  },
  {
   "cell_type": "code",
   "execution_count": 215,
   "id": "2a18580b",
   "metadata": {},
   "outputs": [
    {
     "data": {
      "image/png": "[encoded data removed]",
      "text/plain": [
       "<Figure size 640x480 with 1 Axes>"
      ]
     },
     "metadata": {},
     "output_type": "display_data"
    }
   ],
   "source": [
    "plot_corr(patient, 'dyspnea_severity', 'medication_count', 'Dyspnea Severity and Medication Count', 4.3, 0)\n"
   ]
  },
  {
   "cell_type": "code",
   "execution_count": 216,
   "id": "8adad821",
   "metadata": {},
   "outputs": [
    {
     "data": {
      "image/png": "[encoded data removed]",
      "text/plain": [
       "<Figure size 640x480 with 1 Axes>"
      ]
     },
     "metadata": {},
     "output_type": "display_data"
    }
   ],
   "source": [
    "plot_corr(patient, 'length', 'medication_count', 'Total Meds and Time Treated', 280,0)"
   ]
  },
  {
   "cell_type": "markdown",
   "id": "f149ca7c",
   "metadata": {},
   "source": [
    "# Joining diagnosis and hospitals into patient"
   ]
  },
  {
   "cell_type": "code",
   "execution_count": 228,
   "id": "16c165f0",
   "metadata": {},
   "outputs": [
    {
     "name": "stdout",
     "output_type": "stream",
     "text": [
      "37421\n"
     ]
    },
    {
     "data": {
      "text/html": [
       "<div>\n",
       "<style scoped>\n",
       "    .dataframe tbody tr th:only-of-type {\n",
       "        vertical-align: middle;\n",
       "    }\n",
       "\n",
       "    .dataframe tbody tr th {\n",
       "        vertical-align: top;\n",
       "    }\n",
       "\n",
       "    .dataframe thead th {\n",
       "        text-align: right;\n",
       "    }\n",
       "</style>\n",
       "<table border=\"1\" class=\"dataframe\">\n",
       "  <thead>\n",
       "    <tr style=\"text-align: right;\">\n",
       "      <th></th>\n",
       "      <th>patient_id</th>\n",
       "      <th>admission_dt</th>\n",
       "      <th>discharge_dt</th>\n",
       "      <th>gender</th>\n",
       "      <th>date_of_birth</th>\n",
       "      <th>dyspnea_severity</th>\n",
       "      <th>medication_count</th>\n",
       "      <th>sysupdate_timestamp</th>\n",
       "      <th>length</th>\n",
       "    </tr>\n",
       "  </thead>\n",
       "  <tbody>\n",
       "    <tr>\n",
       "      <th>37074</th>\n",
       "      <td>25917</td>\n",
       "      <td>2014-09-02</td>\n",
       "      <td>2014-11-02</td>\n",
       "      <td>Male</td>\n",
       "      <td>1891-01-20</td>\n",
       "      <td>0</td>\n",
       "      <td>10</td>\n",
       "      <td>2014-11-03</td>\n",
       "      <td>61</td>\n",
       "    </tr>\n",
       "  </tbody>\n",
       "</table>\n",
       "</div>"
      ],
      "text/plain": [
       "       patient_id admission_dt discharge_dt gender date_of_birth  \\\n",
       "37074       25917   2014-09-02   2014-11-02   Male    1891-01-20   \n",
       "\n",
       "       dyspnea_severity  medication_count sysupdate_timestamp  length  \n",
       "37074                 0                10          2014-11-03      61  "
      ]
     },
     "execution_count": 228,
     "metadata": {},
     "output_type": "execute_result"
    }
   ],
   "source": [
    "print(patient['patient_id'].size)\n",
    "patient.head(1)"
   ]
  },
  {
   "cell_type": "code",
   "execution_count": 229,
   "id": "9198706e",
   "metadata": {},
   "outputs": [
    {
     "name": "stdout",
     "output_type": "stream",
     "text": [
      "25579\n"
     ]
    },
    {
     "data": {
      "text/html": [
       "<div>\n",
       "<style scoped>\n",
       "    .dataframe tbody tr th:only-of-type {\n",
       "        vertical-align: middle;\n",
       "    }\n",
       "\n",
       "    .dataframe tbody tr th {\n",
       "        vertical-align: top;\n",
       "    }\n",
       "\n",
       "    .dataframe thead th {\n",
       "        text-align: right;\n",
       "    }\n",
       "</style>\n",
       "<table border=\"1\" class=\"dataframe\">\n",
       "  <thead>\n",
       "    <tr style=\"text-align: right;\">\n",
       "      <th></th>\n",
       "      <th>patient_id</th>\n",
       "      <th>diagnosis</th>\n",
       "    </tr>\n",
       "  </thead>\n",
       "  <tbody>\n",
       "    <tr>\n",
       "      <th>0</th>\n",
       "      <td>38598</td>\n",
       "      <td>6</td>\n",
       "    </tr>\n",
       "    <tr>\n",
       "      <th>1</th>\n",
       "      <td>37256</td>\n",
       "      <td>6</td>\n",
       "    </tr>\n",
       "  </tbody>\n",
       "</table>\n",
       "</div>"
      ],
      "text/plain": [
       "   patient_id  diagnosis\n",
       "0       38598          6\n",
       "1       37256          6"
      ]
     },
     "execution_count": 229,
     "metadata": {},
     "output_type": "execute_result"
    }
   ],
   "source": [
    "print(diag['patient_id'].size)\n",
    "diag.head(2)"
   ]
  },
  {
   "cell_type": "markdown",
   "id": "d37586e1",
   "metadata": {},
   "source": [
    "## Adding the total diagnoses per patient"
   ]
  },
  {
   "cell_type": "code",
   "execution_count": 230,
   "id": "7aa3e4f7",
   "metadata": {},
   "outputs": [],
   "source": [
    "patient = pd.merge(patient,diag,left_on='patient_id',right_on='patient_id',how='left')"
   ]
  },
  {
   "cell_type": "code",
   "execution_count": 239,
   "id": "808fe739",
   "metadata": {},
   "outputs": [
    {
     "data": {
      "text/html": [
       "<div>\n",
       "<style scoped>\n",
       "    .dataframe tbody tr th:only-of-type {\n",
       "        vertical-align: middle;\n",
       "    }\n",
       "\n",
       "    .dataframe tbody tr th {\n",
       "        vertical-align: top;\n",
       "    }\n",
       "\n",
       "    .dataframe thead th {\n",
       "        text-align: right;\n",
       "    }\n",
       "</style>\n",
       "<table border=\"1\" class=\"dataframe\">\n",
       "  <thead>\n",
       "    <tr style=\"text-align: right;\">\n",
       "      <th></th>\n",
       "      <th>patient_id</th>\n",
       "      <th>admission_dt</th>\n",
       "      <th>discharge_dt</th>\n",
       "      <th>gender</th>\n",
       "      <th>date_of_birth</th>\n",
       "      <th>dyspnea_severity</th>\n",
       "      <th>medication_count</th>\n",
       "      <th>sysupdate_timestamp</th>\n",
       "      <th>length</th>\n",
       "      <th>diagnosis</th>\n",
       "    </tr>\n",
       "  </thead>\n",
       "  <tbody>\n",
       "    <tr>\n",
       "      <th>0</th>\n",
       "      <td>25917</td>\n",
       "      <td>2014-09-02</td>\n",
       "      <td>2014-11-02</td>\n",
       "      <td>Male</td>\n",
       "      <td>1891-01-20</td>\n",
       "      <td>0</td>\n",
       "      <td>10</td>\n",
       "      <td>2014-11-03</td>\n",
       "      <td>61</td>\n",
       "      <td>3.0</td>\n",
       "    </tr>\n",
       "    <tr>\n",
       "      <th>1</th>\n",
       "      <td>4817</td>\n",
       "      <td>2014-02-21</td>\n",
       "      <td>2014-03-15</td>\n",
       "      <td>Female</td>\n",
       "      <td>1896-02-17</td>\n",
       "      <td>0</td>\n",
       "      <td>5</td>\n",
       "      <td>2014-03-16</td>\n",
       "      <td>22</td>\n",
       "      <td>1.0</td>\n",
       "    </tr>\n",
       "    <tr>\n",
       "      <th>2</th>\n",
       "      <td>7029</td>\n",
       "      <td>2014-03-13</td>\n",
       "      <td>2014-03-17</td>\n",
       "      <td>Male</td>\n",
       "      <td>1897-08-23</td>\n",
       "      <td>1</td>\n",
       "      <td>7</td>\n",
       "      <td>2014-03-18</td>\n",
       "      <td>4</td>\n",
       "      <td>1.0</td>\n",
       "    </tr>\n",
       "    <tr>\n",
       "      <th>3</th>\n",
       "      <td>23977</td>\n",
       "      <td>2014-08-13</td>\n",
       "      <td>2014-09-01</td>\n",
       "      <td>Female</td>\n",
       "      <td>1898-04-03</td>\n",
       "      <td>0</td>\n",
       "      <td>8</td>\n",
       "      <td>2014-09-02</td>\n",
       "      <td>19</td>\n",
       "      <td>2.0</td>\n",
       "    </tr>\n",
       "    <tr>\n",
       "      <th>4</th>\n",
       "      <td>15479</td>\n",
       "      <td>2014-05-18</td>\n",
       "      <td>2014-06-21</td>\n",
       "      <td>Female</td>\n",
       "      <td>1899-01-13</td>\n",
       "      <td>3</td>\n",
       "      <td>9</td>\n",
       "      <td>2014-06-22</td>\n",
       "      <td>34</td>\n",
       "      <td>3.0</td>\n",
       "    </tr>\n",
       "    <tr>\n",
       "      <th>...</th>\n",
       "      <td>...</td>\n",
       "      <td>...</td>\n",
       "      <td>...</td>\n",
       "      <td>...</td>\n",
       "      <td>...</td>\n",
       "      <td>...</td>\n",
       "      <td>...</td>\n",
       "      <td>...</td>\n",
       "      <td>...</td>\n",
       "      <td>...</td>\n",
       "    </tr>\n",
       "    <tr>\n",
       "      <th>37416</th>\n",
       "      <td>7337</td>\n",
       "      <td>2014-03-15</td>\n",
       "      <td>2014-03-26</td>\n",
       "      <td>Female</td>\n",
       "      <td>1983-10-04</td>\n",
       "      <td>0</td>\n",
       "      <td>13</td>\n",
       "      <td>2014-03-27</td>\n",
       "      <td>11</td>\n",
       "      <td>1.0</td>\n",
       "    </tr>\n",
       "    <tr>\n",
       "      <th>37417</th>\n",
       "      <td>38648</td>\n",
       "      <td>2014-12-25</td>\n",
       "      <td>2015-01-26</td>\n",
       "      <td>Male</td>\n",
       "      <td>1984-08-03</td>\n",
       "      <td>0</td>\n",
       "      <td>5</td>\n",
       "      <td>2015-01-27</td>\n",
       "      <td>32</td>\n",
       "      <td>0.0</td>\n",
       "    </tr>\n",
       "    <tr>\n",
       "      <th>37418</th>\n",
       "      <td>22834</td>\n",
       "      <td>2014-07-31</td>\n",
       "      <td>2014-09-08</td>\n",
       "      <td>Male</td>\n",
       "      <td>1985-06-18</td>\n",
       "      <td>1</td>\n",
       "      <td>10</td>\n",
       "      <td>2014-09-09</td>\n",
       "      <td>39</td>\n",
       "      <td>0.0</td>\n",
       "    </tr>\n",
       "    <tr>\n",
       "      <th>37419</th>\n",
       "      <td>36623</td>\n",
       "      <td>2014-12-04</td>\n",
       "      <td>2015-01-11</td>\n",
       "      <td>Female</td>\n",
       "      <td>1985-09-20</td>\n",
       "      <td>0</td>\n",
       "      <td>5</td>\n",
       "      <td>2015-01-12</td>\n",
       "      <td>38</td>\n",
       "      <td>2.0</td>\n",
       "    </tr>\n",
       "    <tr>\n",
       "      <th>37420</th>\n",
       "      <td>35190</td>\n",
       "      <td>2014-11-19</td>\n",
       "      <td>2014-12-05</td>\n",
       "      <td>Female</td>\n",
       "      <td>1986-04-07</td>\n",
       "      <td>0</td>\n",
       "      <td>4</td>\n",
       "      <td>2014-12-06</td>\n",
       "      <td>16</td>\n",
       "      <td>1.0</td>\n",
       "    </tr>\n",
       "  </tbody>\n",
       "</table>\n",
       "<p>37421 rows × 10 columns</p>\n",
       "</div>"
      ],
      "text/plain": [
       "       patient_id admission_dt discharge_dt  gender date_of_birth  \\\n",
       "0           25917   2014-09-02   2014-11-02    Male    1891-01-20   \n",
       "1            4817   2014-02-21   2014-03-15  Female    1896-02-17   \n",
       "2            7029   2014-03-13   2014-03-17    Male    1897-08-23   \n",
       "3           23977   2014-08-13   2014-09-01  Female    1898-04-03   \n",
       "4           15479   2014-05-18   2014-06-21  Female    1899-01-13   \n",
       "...           ...          ...          ...     ...           ...   \n",
       "37416        7337   2014-03-15   2014-03-26  Female    1983-10-04   \n",
       "37417       38648   2014-12-25   2015-01-26    Male    1984-08-03   \n",
       "37418       22834   2014-07-31   2014-09-08    Male    1985-06-18   \n",
       "37419       36623   2014-12-04   2015-01-11  Female    1985-09-20   \n",
       "37420       35190   2014-11-19   2014-12-05  Female    1986-04-07   \n",
       "\n",
       "       dyspnea_severity  medication_count sysupdate_timestamp  length  \\\n",
       "0                     0                10          2014-11-03      61   \n",
       "1                     0                 5          2014-03-16      22   \n",
       "2                     1                 7          2014-03-18       4   \n",
       "3                     0                 8          2014-09-02      19   \n",
       "4                     3                 9          2014-06-22      34   \n",
       "...                 ...               ...                 ...     ...   \n",
       "37416                 0                13          2014-03-27      11   \n",
       "37417                 0                 5          2015-01-27      32   \n",
       "37418                 1                10          2014-09-09      39   \n",
       "37419                 0                 5          2015-01-12      38   \n",
       "37420                 0                 4          2014-12-06      16   \n",
       "\n",
       "       diagnosis  \n",
       "0            3.0  \n",
       "1            1.0  \n",
       "2            1.0  \n",
       "3            2.0  \n",
       "4            3.0  \n",
       "...          ...  \n",
       "37416        1.0  \n",
       "37417        0.0  \n",
       "37418        0.0  \n",
       "37419        2.0  \n",
       "37420        1.0  \n",
       "\n",
       "[37421 rows x 10 columns]"
      ]
     },
     "execution_count": 239,
     "metadata": {},
     "output_type": "execute_result"
    }
   ],
   "source": [
    "patient['diagnosis'] = patient['diagnosis'].fillna(0)\n",
    "patient"
   ]
  },
  {
   "cell_type": "markdown",
   "id": "fb9fdfbb",
   "metadata": {},
   "source": [
    "## Now adding the total hospitalizations per patient"
   ]
  },
  {
   "cell_type": "code",
   "execution_count": 247,
   "id": "baa0a403",
   "metadata": {},
   "outputs": [
    {
     "data": {
      "text/html": [
       "<div>\n",
       "<style scoped>\n",
       "    .dataframe tbody tr th:only-of-type {\n",
       "        vertical-align: middle;\n",
       "    }\n",
       "\n",
       "    .dataframe tbody tr th {\n",
       "        vertical-align: top;\n",
       "    }\n",
       "\n",
       "    .dataframe thead th {\n",
       "        text-align: right;\n",
       "    }\n",
       "</style>\n",
       "<table border=\"1\" class=\"dataframe\">\n",
       "  <thead>\n",
       "    <tr style=\"text-align: right;\">\n",
       "      <th></th>\n",
       "      <th>patient_id</th>\n",
       "      <th>admission_dt</th>\n",
       "      <th>discharge_dt</th>\n",
       "      <th>gender</th>\n",
       "      <th>date_of_birth</th>\n",
       "      <th>dyspnea_severity</th>\n",
       "      <th>medication_count</th>\n",
       "      <th>sysupdate_timestamp</th>\n",
       "      <th>length</th>\n",
       "      <th>diagnosis</th>\n",
       "      <th>hospitalization_dt</th>\n",
       "    </tr>\n",
       "  </thead>\n",
       "  <tbody>\n",
       "    <tr>\n",
       "      <th>0</th>\n",
       "      <td>25917</td>\n",
       "      <td>2014-09-02</td>\n",
       "      <td>2014-11-02</td>\n",
       "      <td>Male</td>\n",
       "      <td>1891-01-20</td>\n",
       "      <td>0</td>\n",
       "      <td>10</td>\n",
       "      <td>2014-11-03</td>\n",
       "      <td>61</td>\n",
       "      <td>3.0</td>\n",
       "      <td>0.0</td>\n",
       "    </tr>\n",
       "    <tr>\n",
       "      <th>1</th>\n",
       "      <td>4817</td>\n",
       "      <td>2014-02-21</td>\n",
       "      <td>2014-03-15</td>\n",
       "      <td>Female</td>\n",
       "      <td>1896-02-17</td>\n",
       "      <td>0</td>\n",
       "      <td>5</td>\n",
       "      <td>2014-03-16</td>\n",
       "      <td>22</td>\n",
       "      <td>1.0</td>\n",
       "      <td>0.0</td>\n",
       "    </tr>\n",
       "    <tr>\n",
       "      <th>2</th>\n",
       "      <td>7029</td>\n",
       "      <td>2014-03-13</td>\n",
       "      <td>2014-03-17</td>\n",
       "      <td>Male</td>\n",
       "      <td>1897-08-23</td>\n",
       "      <td>1</td>\n",
       "      <td>7</td>\n",
       "      <td>2014-03-18</td>\n",
       "      <td>4</td>\n",
       "      <td>1.0</td>\n",
       "      <td>2.0</td>\n",
       "    </tr>\n",
       "    <tr>\n",
       "      <th>3</th>\n",
       "      <td>23977</td>\n",
       "      <td>2014-08-13</td>\n",
       "      <td>2014-09-01</td>\n",
       "      <td>Female</td>\n",
       "      <td>1898-04-03</td>\n",
       "      <td>0</td>\n",
       "      <td>8</td>\n",
       "      <td>2014-09-02</td>\n",
       "      <td>19</td>\n",
       "      <td>2.0</td>\n",
       "      <td>0.0</td>\n",
       "    </tr>\n",
       "    <tr>\n",
       "      <th>4</th>\n",
       "      <td>15479</td>\n",
       "      <td>2014-05-18</td>\n",
       "      <td>2014-06-21</td>\n",
       "      <td>Female</td>\n",
       "      <td>1899-01-13</td>\n",
       "      <td>3</td>\n",
       "      <td>9</td>\n",
       "      <td>2014-06-22</td>\n",
       "      <td>34</td>\n",
       "      <td>3.0</td>\n",
       "      <td>0.0</td>\n",
       "    </tr>\n",
       "    <tr>\n",
       "      <th>...</th>\n",
       "      <td>...</td>\n",
       "      <td>...</td>\n",
       "      <td>...</td>\n",
       "      <td>...</td>\n",
       "      <td>...</td>\n",
       "      <td>...</td>\n",
       "      <td>...</td>\n",
       "      <td>...</td>\n",
       "      <td>...</td>\n",
       "      <td>...</td>\n",
       "      <td>...</td>\n",
       "    </tr>\n",
       "    <tr>\n",
       "      <th>37416</th>\n",
       "      <td>7337</td>\n",
       "      <td>2014-03-15</td>\n",
       "      <td>2014-03-26</td>\n",
       "      <td>Female</td>\n",
       "      <td>1983-10-04</td>\n",
       "      <td>0</td>\n",
       "      <td>13</td>\n",
       "      <td>2014-03-27</td>\n",
       "      <td>11</td>\n",
       "      <td>1.0</td>\n",
       "      <td>1.0</td>\n",
       "    </tr>\n",
       "    <tr>\n",
       "      <th>37417</th>\n",
       "      <td>38648</td>\n",
       "      <td>2014-12-25</td>\n",
       "      <td>2015-01-26</td>\n",
       "      <td>Male</td>\n",
       "      <td>1984-08-03</td>\n",
       "      <td>0</td>\n",
       "      <td>5</td>\n",
       "      <td>2015-01-27</td>\n",
       "      <td>32</td>\n",
       "      <td>0.0</td>\n",
       "      <td>0.0</td>\n",
       "    </tr>\n",
       "    <tr>\n",
       "      <th>37418</th>\n",
       "      <td>22834</td>\n",
       "      <td>2014-07-31</td>\n",
       "      <td>2014-09-08</td>\n",
       "      <td>Male</td>\n",
       "      <td>1985-06-18</td>\n",
       "      <td>1</td>\n",
       "      <td>10</td>\n",
       "      <td>2014-09-09</td>\n",
       "      <td>39</td>\n",
       "      <td>0.0</td>\n",
       "      <td>0.0</td>\n",
       "    </tr>\n",
       "    <tr>\n",
       "      <th>37419</th>\n",
       "      <td>36623</td>\n",
       "      <td>2014-12-04</td>\n",
       "      <td>2015-01-11</td>\n",
       "      <td>Female</td>\n",
       "      <td>1985-09-20</td>\n",
       "      <td>0</td>\n",
       "      <td>5</td>\n",
       "      <td>2015-01-12</td>\n",
       "      <td>38</td>\n",
       "      <td>2.0</td>\n",
       "      <td>1.0</td>\n",
       "    </tr>\n",
       "    <tr>\n",
       "      <th>37420</th>\n",
       "      <td>35190</td>\n",
       "      <td>2014-11-19</td>\n",
       "      <td>2014-12-05</td>\n",
       "      <td>Female</td>\n",
       "      <td>1986-04-07</td>\n",
       "      <td>0</td>\n",
       "      <td>4</td>\n",
       "      <td>2014-12-06</td>\n",
       "      <td>16</td>\n",
       "      <td>1.0</td>\n",
       "      <td>0.0</td>\n",
       "    </tr>\n",
       "  </tbody>\n",
       "</table>\n",
       "<p>37421 rows × 11 columns</p>\n",
       "</div>"
      ],
      "text/plain": [
       "       patient_id admission_dt discharge_dt  gender date_of_birth  \\\n",
       "0           25917   2014-09-02   2014-11-02    Male    1891-01-20   \n",
       "1            4817   2014-02-21   2014-03-15  Female    1896-02-17   \n",
       "2            7029   2014-03-13   2014-03-17    Male    1897-08-23   \n",
       "3           23977   2014-08-13   2014-09-01  Female    1898-04-03   \n",
       "4           15479   2014-05-18   2014-06-21  Female    1899-01-13   \n",
       "...           ...          ...          ...     ...           ...   \n",
       "37416        7337   2014-03-15   2014-03-26  Female    1983-10-04   \n",
       "37417       38648   2014-12-25   2015-01-26    Male    1984-08-03   \n",
       "37418       22834   2014-07-31   2014-09-08    Male    1985-06-18   \n",
       "37419       36623   2014-12-04   2015-01-11  Female    1985-09-20   \n",
       "37420       35190   2014-11-19   2014-12-05  Female    1986-04-07   \n",
       "\n",
       "       dyspnea_severity  medication_count sysupdate_timestamp  length  \\\n",
       "0                     0                10          2014-11-03      61   \n",
       "1                     0                 5          2014-03-16      22   \n",
       "2                     1                 7          2014-03-18       4   \n",
       "3                     0                 8          2014-09-02      19   \n",
       "4                     3                 9          2014-06-22      34   \n",
       "...                 ...               ...                 ...     ...   \n",
       "37416                 0                13          2014-03-27      11   \n",
       "37417                 0                 5          2015-01-27      32   \n",
       "37418                 1                10          2014-09-09      39   \n",
       "37419                 0                 5          2015-01-12      38   \n",
       "37420                 0                 4          2014-12-06      16   \n",
       "\n",
       "       diagnosis  hospitalization_dt  \n",
       "0            3.0                 0.0  \n",
       "1            1.0                 0.0  \n",
       "2            1.0                 2.0  \n",
       "3            2.0                 0.0  \n",
       "4            3.0                 0.0  \n",
       "...          ...                 ...  \n",
       "37416        1.0                 1.0  \n",
       "37417        0.0                 0.0  \n",
       "37418        0.0                 0.0  \n",
       "37419        2.0                 1.0  \n",
       "37420        1.0                 0.0  \n",
       "\n",
       "[37421 rows x 11 columns]"
      ]
     },
     "execution_count": 247,
     "metadata": {},
     "output_type": "execute_result"
    }
   ],
   "source": [
    "#now we can add total hospitalizations too\n",
    "patient = pd.merge(patient,hosp,left_on='patient_id',right_on='patient_id',how='left')\n",
    "patient['hospitalization_dt'] = patient['hospitalization_dt'].fillna(0)\n",
    "patient"
   ]
  },
  {
   "cell_type": "code",
   "execution_count": null,
   "id": "177ec7c2",
   "metadata": {},
   "outputs": [],
   "source": []
  },
  {
   "cell_type": "code",
   "execution_count": 253,
   "id": "560acfd5",
   "metadata": {},
   "outputs": [
    {
     "data": {
      "text/html": [
       "<div>\n",
       "<style scoped>\n",
       "    .dataframe tbody tr th:only-of-type {\n",
       "        vertical-align: middle;\n",
       "    }\n",
       "\n",
       "    .dataframe tbody tr th {\n",
       "        vertical-align: top;\n",
       "    }\n",
       "\n",
       "    .dataframe thead th {\n",
       "        text-align: right;\n",
       "    }\n",
       "</style>\n",
       "<table border=\"1\" class=\"dataframe\">\n",
       "  <thead>\n",
       "    <tr style=\"text-align: right;\">\n",
       "      <th></th>\n",
       "      <th>diagnosis</th>\n",
       "      <th>hospitalization_dt</th>\n",
       "    </tr>\n",
       "  </thead>\n",
       "  <tbody>\n",
       "    <tr>\n",
       "      <th>0</th>\n",
       "      <td>1.0</td>\n",
       "      <td>5677.0</td>\n",
       "    </tr>\n",
       "    <tr>\n",
       "      <th>1</th>\n",
       "      <td>0.0</td>\n",
       "      <td>4209.0</td>\n",
       "    </tr>\n",
       "    <tr>\n",
       "      <th>2</th>\n",
       "      <td>2.0</td>\n",
       "      <td>3723.0</td>\n",
       "    </tr>\n",
       "    <tr>\n",
       "      <th>3</th>\n",
       "      <td>3.0</td>\n",
       "      <td>1445.0</td>\n",
       "    </tr>\n",
       "    <tr>\n",
       "      <th>4</th>\n",
       "      <td>4.0</td>\n",
       "      <td>308.0</td>\n",
       "    </tr>\n",
       "    <tr>\n",
       "      <th>5</th>\n",
       "      <td>5.0</td>\n",
       "      <td>32.0</td>\n",
       "    </tr>\n",
       "    <tr>\n",
       "      <th>6</th>\n",
       "      <td>6.0</td>\n",
       "      <td>3.0</td>\n",
       "    </tr>\n",
       "  </tbody>\n",
       "</table>\n",
       "</div>"
      ],
      "text/plain": [
       "   diagnosis  hospitalization_dt\n",
       "0        1.0              5677.0\n",
       "1        0.0              4209.0\n",
       "2        2.0              3723.0\n",
       "3        3.0              1445.0\n",
       "4        4.0               308.0\n",
       "5        5.0                32.0\n",
       "6        6.0                 3.0"
      ]
     },
     "execution_count": 253,
     "metadata": {},
     "output_type": "execute_result"
    }
   ],
   "source": [
    "#patients with 0 diagnosis\n",
    "diag_count = (\n",
    "    patient.groupby(['diagnosis'])\n",
    "    .agg({'hospitalization_dt':'sum'})\n",
    "    .reset_index()\n",
    "    .sort_values(by=['hospitalization_dt'],ascending=False)\n",
    "    .reset_index(drop=True)\n",
    "    ) \n",
    "diag_count"
   ]
  },
  {
   "cell_type": "markdown",
   "id": "c5a92d7e",
   "metadata": {},
   "source": [
    "## Above is hosps per diagnosis amount, below is total people with each diagnosis amount"
   ]
  },
  {
   "cell_type": "markdown",
   "id": "026cdcb2",
   "metadata": {},
   "source": [
    "### Divide to find the rate\n",
    "### 40.2 % chance for ppl with 1 diagnosis to be hospitalized .. etc"
   ]
  },
  {
   "cell_type": "code",
   "execution_count": 254,
   "id": "b84c9e18",
   "metadata": {},
   "outputs": [
    {
     "data": {
      "text/plain": [
       "1.0    14118\n",
       "0.0    11842\n",
       "2.0     8130\n",
       "3.0     2739\n",
       "4.0      535\n",
       "5.0       55\n",
       "6.0        2\n",
       "Name: diagnosis, dtype: int64"
      ]
     },
     "execution_count": 254,
     "metadata": {},
     "output_type": "execute_result"
    }
   ],
   "source": [
    "patient['diagnosis'].value_counts()"
   ]
  },
  {
   "cell_type": "markdown",
   "id": "01b55fd3",
   "metadata": {},
   "source": [
    "### But I also want to see what specific diagnoses are linked to hospitalization amounts"
   ]
  },
  {
   "cell_type": "code",
   "execution_count": 249,
   "id": "41a34f20",
   "metadata": {},
   "outputs": [
    {
     "data": {
      "text/html": [
       "<div>\n",
       "<style scoped>\n",
       "    .dataframe tbody tr th:only-of-type {\n",
       "        vertical-align: middle;\n",
       "    }\n",
       "\n",
       "    .dataframe tbody tr th {\n",
       "        vertical-align: top;\n",
       "    }\n",
       "\n",
       "    .dataframe thead th {\n",
       "        text-align: right;\n",
       "    }\n",
       "</style>\n",
       "<table border=\"1\" class=\"dataframe\">\n",
       "  <thead>\n",
       "    <tr style=\"text-align: right;\">\n",
       "      <th></th>\n",
       "      <th>patient_id</th>\n",
       "      <th>diagnosis</th>\n",
       "      <th>hospitalization_dt</th>\n",
       "    </tr>\n",
       "  </thead>\n",
       "  <tbody>\n",
       "    <tr>\n",
       "      <th>29627</th>\n",
       "      <td>1</td>\n",
       "      <td>ARTHRITIS</td>\n",
       "      <td>0.0</td>\n",
       "    </tr>\n",
       "    <tr>\n",
       "      <th>32288</th>\n",
       "      <td>1</td>\n",
       "      <td>HYPERTENSION</td>\n",
       "      <td>0.0</td>\n",
       "    </tr>\n",
       "    <tr>\n",
       "      <th>25296</th>\n",
       "      <td>1</td>\n",
       "      <td>PULMONARY DISEASE</td>\n",
       "      <td>0.0</td>\n",
       "    </tr>\n",
       "    <tr>\n",
       "      <th>20807</th>\n",
       "      <td>2</td>\n",
       "      <td>CHF</td>\n",
       "      <td>1.0</td>\n",
       "    </tr>\n",
       "    <tr>\n",
       "      <th>24095</th>\n",
       "      <td>3</td>\n",
       "      <td>HYPERTENSION</td>\n",
       "      <td>1.0</td>\n",
       "    </tr>\n",
       "    <tr>\n",
       "      <th>16653</th>\n",
       "      <td>4</td>\n",
       "      <td>DIABETES</td>\n",
       "      <td>1.0</td>\n",
       "    </tr>\n",
       "    <tr>\n",
       "      <th>30808</th>\n",
       "      <td>6</td>\n",
       "      <td>PULMONARY DISEASE</td>\n",
       "      <td>1.0</td>\n",
       "    </tr>\n",
       "    <tr>\n",
       "      <th>29928</th>\n",
       "      <td>6</td>\n",
       "      <td>HYPERTENSION</td>\n",
       "      <td>1.0</td>\n",
       "    </tr>\n",
       "    <tr>\n",
       "      <th>14616</th>\n",
       "      <td>7</td>\n",
       "      <td>AMI</td>\n",
       "      <td>0.0</td>\n",
       "    </tr>\n",
       "    <tr>\n",
       "      <th>30607</th>\n",
       "      <td>7</td>\n",
       "      <td>STROKE</td>\n",
       "      <td>0.0</td>\n",
       "    </tr>\n",
       "  </tbody>\n",
       "</table>\n",
       "</div>"
      ],
      "text/plain": [
       "       patient_id          diagnosis  hospitalization_dt\n",
       "29627           1          ARTHRITIS                 0.0\n",
       "32288           1       HYPERTENSION                 0.0\n",
       "25296           1  PULMONARY DISEASE                 0.0\n",
       "20807           2                CHF                 1.0\n",
       "24095           3       HYPERTENSION                 1.0\n",
       "16653           4           DIABETES                 1.0\n",
       "30808           6  PULMONARY DISEASE                 1.0\n",
       "29928           6       HYPERTENSION                 1.0\n",
       "14616           7                AMI                 0.0\n",
       "30607           7             STROKE                 0.0"
      ]
     },
     "execution_count": 249,
     "metadata": {},
     "output_type": "execute_result"
    }
   ],
   "source": [
    "#it worked!\n",
    "new_diag = pd.merge(diagnoses,hosp,left_on='patient_id',right_on='patient_id',how='left')\n",
    "new_diag['hospitalization_dt'] = new_diag['hospitalization_dt'].fillna(0)\n",
    "new_diag = new_diag.sort_values(by='patient_id')\n",
    "new_diag.head(10)"
   ]
  },
  {
   "cell_type": "code",
   "execution_count": 252,
   "id": "e3eb60e8",
   "metadata": {},
   "outputs": [
    {
     "data": {
      "text/html": [
       "<div>\n",
       "<style scoped>\n",
       "    .dataframe tbody tr th:only-of-type {\n",
       "        vertical-align: middle;\n",
       "    }\n",
       "\n",
       "    .dataframe tbody tr th {\n",
       "        vertical-align: top;\n",
       "    }\n",
       "\n",
       "    .dataframe thead th {\n",
       "        text-align: right;\n",
       "    }\n",
       "</style>\n",
       "<table border=\"1\" class=\"dataframe\">\n",
       "  <thead>\n",
       "    <tr style=\"text-align: right;\">\n",
       "      <th></th>\n",
       "      <th>diagnosis</th>\n",
       "      <th>hospitalization_dt</th>\n",
       "    </tr>\n",
       "  </thead>\n",
       "  <tbody>\n",
       "    <tr>\n",
       "      <th>0</th>\n",
       "      <td>HYPERTENSION</td>\n",
       "      <td>5309.0</td>\n",
       "    </tr>\n",
       "    <tr>\n",
       "      <th>1</th>\n",
       "      <td>DIABETES</td>\n",
       "      <td>3688.0</td>\n",
       "    </tr>\n",
       "    <tr>\n",
       "      <th>2</th>\n",
       "      <td>CHF</td>\n",
       "      <td>2638.0</td>\n",
       "    </tr>\n",
       "    <tr>\n",
       "      <th>3</th>\n",
       "      <td>ARTHRITIS</td>\n",
       "      <td>2117.0</td>\n",
       "    </tr>\n",
       "    <tr>\n",
       "      <th>4</th>\n",
       "      <td>PULMONARY DISEASE</td>\n",
       "      <td>1971.0</td>\n",
       "    </tr>\n",
       "    <tr>\n",
       "      <th>5</th>\n",
       "      <td>AMI</td>\n",
       "      <td>1749.0</td>\n",
       "    </tr>\n",
       "    <tr>\n",
       "      <th>6</th>\n",
       "      <td>STROKE</td>\n",
       "      <td>1396.0</td>\n",
       "    </tr>\n",
       "  </tbody>\n",
       "</table>\n",
       "</div>"
      ],
      "text/plain": [
       "           diagnosis  hospitalization_dt\n",
       "0       HYPERTENSION              5309.0\n",
       "1           DIABETES              3688.0\n",
       "2                CHF              2638.0\n",
       "3          ARTHRITIS              2117.0\n",
       "4  PULMONARY DISEASE              1971.0\n",
       "5                AMI              1749.0\n",
       "6             STROKE              1396.0"
      ]
     },
     "execution_count": 252,
     "metadata": {},
     "output_type": "execute_result"
    }
   ],
   "source": [
    "bad = (\n",
    "    new_diag.groupby(['diagnosis'])\n",
    "    .agg({'hospitalization_dt':'sum'})\n",
    "    .reset_index()\n",
    "    .sort_values(by=['hospitalization_dt'],ascending=False)\n",
    "    .reset_index(drop=True)\n",
    "    )\n",
    "bad"
   ]
  },
  {
   "cell_type": "markdown",
   "id": "34136f6b",
   "metadata": {},
   "source": [
    "## Below is total diagnoses, above is hospitals per diagnosis. Divide them to find %\n",
    "#### hypertension = 47.7% of all hypertension diagnoses went to the hospital"
   ]
  },
  {
   "cell_type": "code",
   "execution_count": 250,
   "id": "6eb92abf",
   "metadata": {},
   "outputs": [
    {
     "data": {
      "text/plain": [
       "HYPERTENSION         11141\n",
       "DIABETES              7498\n",
       "ARTHRITIS             5795\n",
       "CHF                   4816\n",
       "PULMONARY DISEASE     4438\n",
       "AMI                   4260\n",
       "STROKE                3074\n",
       "Name: diagnosis, dtype: int64"
      ]
     },
     "execution_count": 250,
     "metadata": {},
     "output_type": "execute_result"
    }
   ],
   "source": [
    "diagnoses['diagnosis'].value_counts()"
   ]
  },
  {
   "cell_type": "markdown",
   "id": "c7a2b047",
   "metadata": {},
   "source": [
    "## No corr between DOB and hospitilzations"
   ]
  },
  {
   "cell_type": "code",
   "execution_count": 276,
   "id": "b73db664",
   "metadata": {},
   "outputs": [
    {
     "data": {
      "image/png": "[encoded data removed]",
      "text/plain": [
       "<Figure size 640x480 with 1 Axes>"
      ]
     },
     "metadata": {},
     "output_type": "display_data"
    }
   ],
   "source": [
    "plt.scatter(patient['date_of_birth'], patient['amount_of_hospitalizations'], alpha=.6)\n",
    "plt.show()"
   ]
  },
  {
   "cell_type": "code",
   "execution_count": 268,
   "id": "5f2edf2e",
   "metadata": {},
   "outputs": [],
   "source": [
    "patient = patient.rename(columns = {'length':'length_of_treatment', 'hospitalization_dt':'amount_of_hospitalizations', 'diagnosis':'amount_of_diagnoses'})"
   ]
  },
  {
   "cell_type": "markdown",
   "id": "55065d42",
   "metadata": {},
   "source": [
    "## Lets add a binary column to see if a patient was hospitalized at all or not"
   ]
  },
  {
   "cell_type": "code",
   "execution_count": 272,
   "id": "4cb0a512",
   "metadata": {},
   "outputs": [
    {
     "data": {
      "text/plain": [
       "0.0    24998\n",
       "1.0    12423\n",
       "Name: hospitalized?, dtype: int64"
      ]
     },
     "execution_count": 272,
     "metadata": {},
     "output_type": "execute_result"
    }
   ],
   "source": [
    "patient['hospitalized?'] = patient['amount_of_hospitalizations']\n",
    "patient['hospitalized?'] = patient['hospitalized?'].replace(to_replace=2, value=1)\n",
    "patient['hospitalized?'] = patient['hospitalized?'].replace(to_replace=3, value=1)\n",
    "patient['hospitalized?'] = patient['hospitalized?'].replace(to_replace=4, value=1)\n",
    "patient['hospitalized?'] = patient['hospitalized?'].replace(to_replace=5, value=1)\n",
    "patient['hospitalized?'] = patient['hospitalized?'].replace(to_replace=6, value=1)\n",
    "patient['hospitalized?'].value_counts()"
   ]
  },
  {
   "cell_type": "code",
   "execution_count": 340,
   "id": "54781ae6",
   "metadata": {},
   "outputs": [
    {
     "data": {
      "text/html": [
       "<div>\n",
       "<style scoped>\n",
       "    .dataframe tbody tr th:only-of-type {\n",
       "        vertical-align: middle;\n",
       "    }\n",
       "\n",
       "    .dataframe tbody tr th {\n",
       "        vertical-align: top;\n",
       "    }\n",
       "\n",
       "    .dataframe thead th {\n",
       "        text-align: right;\n",
       "    }\n",
       "</style>\n",
       "<table border=\"1\" class=\"dataframe\">\n",
       "  <thead>\n",
       "    <tr style=\"text-align: right;\">\n",
       "      <th></th>\n",
       "      <th>patient_id</th>\n",
       "      <th>admission_dt</th>\n",
       "      <th>discharge_dt</th>\n",
       "      <th>gender</th>\n",
       "      <th>date_of_birth</th>\n",
       "      <th>dyspnea_severity</th>\n",
       "      <th>medication_count</th>\n",
       "      <th>sysupdate_timestamp</th>\n",
       "      <th>length_of_treatment</th>\n",
       "      <th>amount_of_diagnoses</th>\n",
       "      <th>amount_of_hospitalizations</th>\n",
       "      <th>hospitalized?</th>\n",
       "      <th>index</th>\n",
       "      <th>hospitalization_dt</th>\n",
       "    </tr>\n",
       "  </thead>\n",
       "  <tbody>\n",
       "    <tr>\n",
       "      <th>0</th>\n",
       "      <td>25917</td>\n",
       "      <td>2014-09-02</td>\n",
       "      <td>2014-11-02</td>\n",
       "      <td>Male</td>\n",
       "      <td>1891-01-20</td>\n",
       "      <td>0</td>\n",
       "      <td>10</td>\n",
       "      <td>2014-11-03</td>\n",
       "      <td>61</td>\n",
       "      <td>3.0</td>\n",
       "      <td>0.0</td>\n",
       "      <td>0.0</td>\n",
       "      <td>NaN</td>\n",
       "      <td>NaT</td>\n",
       "    </tr>\n",
       "    <tr>\n",
       "      <th>1</th>\n",
       "      <td>4817</td>\n",
       "      <td>2014-02-21</td>\n",
       "      <td>2014-03-15</td>\n",
       "      <td>Female</td>\n",
       "      <td>1896-02-17</td>\n",
       "      <td>0</td>\n",
       "      <td>5</td>\n",
       "      <td>2014-03-16</td>\n",
       "      <td>22</td>\n",
       "      <td>1.0</td>\n",
       "      <td>0.0</td>\n",
       "      <td>0.0</td>\n",
       "      <td>NaN</td>\n",
       "      <td>NaT</td>\n",
       "    </tr>\n",
       "  </tbody>\n",
       "</table>\n",
       "</div>"
      ],
      "text/plain": [
       "   patient_id admission_dt discharge_dt  gender date_of_birth  \\\n",
       "0       25917   2014-09-02   2014-11-02    Male    1891-01-20   \n",
       "1        4817   2014-02-21   2014-03-15  Female    1896-02-17   \n",
       "\n",
       "   dyspnea_severity  medication_count sysupdate_timestamp  \\\n",
       "0                 0                10          2014-11-03   \n",
       "1                 0                 5          2014-03-16   \n",
       "\n",
       "   length_of_treatment  amount_of_diagnoses  amount_of_hospitalizations  \\\n",
       "0                   61                  3.0                         0.0   \n",
       "1                   22                  1.0                         0.0   \n",
       "\n",
       "   hospitalized?  index hospitalization_dt  \n",
       "0            0.0    NaN                NaT  \n",
       "1            0.0    NaN                NaT  "
      ]
     },
     "execution_count": 340,
     "metadata": {},
     "output_type": "execute_result"
    }
   ],
   "source": [
    "#Looking at just hospitalizations after episodes end\n",
    "new_patient = pd.merge(patient,hospitals,left_on='patient_id',right_on='patient_id',how='left')\n",
    "new_patient.head(2)"
   ]
  },
  {
   "cell_type": "code",
   "execution_count": 285,
   "id": "b9c19feb",
   "metadata": {},
   "outputs": [
    {
     "data": {
      "text/html": [
       "<div>\n",
       "<style scoped>\n",
       "    .dataframe tbody tr th:only-of-type {\n",
       "        vertical-align: middle;\n",
       "    }\n",
       "\n",
       "    .dataframe tbody tr th {\n",
       "        vertical-align: top;\n",
       "    }\n",
       "\n",
       "    .dataframe thead th {\n",
       "        text-align: right;\n",
       "    }\n",
       "</style>\n",
       "<table border=\"1\" class=\"dataframe\">\n",
       "  <thead>\n",
       "    <tr style=\"text-align: right;\">\n",
       "      <th></th>\n",
       "      <th>amount_of_time</th>\n",
       "    </tr>\n",
       "  </thead>\n",
       "  <tbody>\n",
       "    <tr>\n",
       "      <th>count</th>\n",
       "      <td>92</td>\n",
       "    </tr>\n",
       "    <tr>\n",
       "      <th>mean</th>\n",
       "      <td>1 days 02:52:10.434782608</td>\n",
       "    </tr>\n",
       "    <tr>\n",
       "      <th>std</th>\n",
       "      <td>0 days 07:49:46.294460487</td>\n",
       "    </tr>\n",
       "    <tr>\n",
       "      <th>min</th>\n",
       "      <td>1 days 00:00:00</td>\n",
       "    </tr>\n",
       "    <tr>\n",
       "      <th>25%</th>\n",
       "      <td>1 days 00:00:00</td>\n",
       "    </tr>\n",
       "    <tr>\n",
       "      <th>50%</th>\n",
       "      <td>1 days 00:00:00</td>\n",
       "    </tr>\n",
       "    <tr>\n",
       "      <th>75%</th>\n",
       "      <td>1 days 00:00:00</td>\n",
       "    </tr>\n",
       "    <tr>\n",
       "      <th>max</th>\n",
       "      <td>2 days 00:00:00</td>\n",
       "    </tr>\n",
       "  </tbody>\n",
       "</table>\n",
       "</div>"
      ],
      "text/plain": [
       "                  amount_of_time\n",
       "count                         92\n",
       "mean   1 days 02:52:10.434782608\n",
       "std    0 days 07:49:46.294460487\n",
       "min              1 days 00:00:00\n",
       "25%              1 days 00:00:00\n",
       "50%              1 days 00:00:00\n",
       "75%              1 days 00:00:00\n",
       "max              2 days 00:00:00"
      ]
     },
     "execution_count": 285,
     "metadata": {},
     "output_type": "execute_result"
    }
   ],
   "source": [
    "time_after = new_patient[new_patient['hospitalization_dt'] > new_patient['discharge_dt']]\n",
    "time_after['amount_of_time'] = time_after['hospitalization_dt'] - time_after['discharge_dt']\n",
    "time_after[['amount_of_time']].describe()"
   ]
  },
  {
   "cell_type": "code",
   "execution_count": 320,
   "id": "aaf5c383",
   "metadata": {},
   "outputs": [
    {
     "data": {
      "text/plain": [
       "81"
      ]
     },
     "execution_count": 320,
     "metadata": {},
     "output_type": "execute_result"
    }
   ],
   "source": [
    "time_after[['patient_id']].sort_values(by='patient_id')\n",
    "deaths = time_after['patient_id'].unique()\n",
    "deaths.size"
   ]
  },
  {
   "cell_type": "markdown",
   "id": "489b0a5f",
   "metadata": {},
   "source": [
    "## Whether hospitalized or not, every feature variable is the same average"
   ]
  },
  {
   "cell_type": "code",
   "execution_count": 337,
   "id": "c811b2b3",
   "metadata": {},
   "outputs": [
    {
     "data": {
      "text/plain": [
       "1.0491639331146492"
      ]
     },
     "execution_count": 337,
     "metadata": {},
     "output_type": "execute_result"
    }
   ],
   "source": [
    "nothosp = patient[patient['hospitalized?'] == 0]\n",
    "nothosp['amount_of_diagnoses'].mean()"
   ]
  },
  {
   "cell_type": "code",
   "execution_count": 338,
   "id": "cc09146e",
   "metadata": {},
   "outputs": [
    {
     "data": {
      "text/plain": [
       "1.1909361667874105"
      ]
     },
     "execution_count": 338,
     "metadata": {},
     "output_type": "execute_result"
    }
   ],
   "source": [
    "yeshosp = patient[patient['hospitalized?'] == 1]\n",
    "yeshosp['amount_of_diagnoses'].mean()"
   ]
  },
  {
   "cell_type": "code",
   "execution_count": null,
   "id": "9b75f97c",
   "metadata": {},
   "outputs": [],
   "source": []
  }
 ],
 "metadata": {
  "kernelspec": {
   "display_name": "Python 3 (ipykernel)",
   "language": "python",
   "name": "python3"
  },
  "language_info": {
   "codemirror_mode": {
    "name": "ipython",
    "version": 3
   },
   "file_extension": ".py",
   "mimetype": "text/x-python",
   "name": "python",
   "nbconvert_exporter": "python",
   "pygments_lexer": "ipython3",
   "version": "3.9.12"
  }
 },
 "nbformat": 4,
 "nbformat_minor": 5
}
